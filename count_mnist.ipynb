{
 "cells": [
  {
   "cell_type": "code",
   "execution_count": 30,
   "outputs": [],
   "source": [
    "with open('mnist/digit-recognizer/train.csv') as f:\n",
    "    lines = f.readlines()\n",
    "with open('mnist/digit-recognizer/test.csv') as f:\n",
    "    lines_test = f.readlines()"
   ],
   "metadata": {
    "collapsed": false,
    "ExecuteTime": {
     "end_time": "2023-10-18T00:04:04.521139600Z",
     "start_time": "2023-10-18T00:04:03.597199300Z"
    }
   },
   "id": "7757af8df1acca50"
  },
  {
   "cell_type": "code",
   "execution_count": 31,
   "outputs": [
    {
     "name": "stdout",
     "output_type": "stream",
     "text": [
      "54880000\n"
     ]
    }
   ],
   "source": [
    "pixels = []\n",
    "for line in lines[1:]:\n",
    "    for x in line.split(',')[1:]:\n",
    "        pixels.append(int(x))\n",
    "for line in lines_test[1:]:\n",
    "    for x in line.split(',')[0:]:\n",
    "        pixels.append(int(x))\n",
    "print(len(pixels))"
   ],
   "metadata": {
    "collapsed": false,
    "ExecuteTime": {
     "end_time": "2023-10-18T00:04:35.821020300Z",
     "start_time": "2023-10-18T00:04:18.843761500Z"
    }
   },
   "id": "4a75aec527e5a013"
  },
  {
   "cell_type": "code",
   "execution_count": 32,
   "outputs": [
    {
     "data": {
      "text/plain": "371117"
     },
     "execution_count": 32,
     "metadata": {},
     "output_type": "execute_result"
    }
   ],
   "source": [
    "from collections import Counter\n",
    "\n",
    "c = Counter(pixels)\n",
    "c[255]"
   ],
   "metadata": {
    "collapsed": false,
    "ExecuteTime": {
     "end_time": "2023-10-18T00:04:40.704030900Z",
     "start_time": "2023-10-18T00:04:40.682613200Z"
    }
   },
   "id": "6e7727bcc9d1bfe8"
  },
  {
   "cell_type": "code",
   "execution_count": 33,
   "outputs": [],
   "source": [
    "l = [[k, c[k]] for k in range(256)]\n"
   ],
   "metadata": {
    "collapsed": false,
    "ExecuteTime": {
     "end_time": "2023-10-18T00:04:41.979293100Z",
     "start_time": "2023-10-18T00:04:41.963966800Z"
    }
   },
   "id": "2363bcb901a8ac7c"
  },
  {
   "cell_type": "code",
   "execution_count": 34,
   "outputs": [
    {
     "data": {
      "text/plain": "{'flag': 'gAAAAABlLyEdrwShlCzdKaNDk0YVdzWeVeGKlpEZobj1HQPblranMCcRq5JAp6Rf8McmYz0QIf7uXZQdQPXsup-qHASi08t1KbntFBtM2mtwNHmRgWPQBzdkF1iHMcpc-tnmTQLhQToKiEGnpJeyqc7LKUQkrkFbRHoKmnoBpQPLHpFY1rZtRGo='}"
     },
     "execution_count": 34,
     "metadata": {},
     "output_type": "execute_result"
    }
   ],
   "source": [
    "import requests\n",
    "\n",
    "def query(input_data):\n",
    "    response = requests.post('http://count-mnist.advml.com/score', json={'data': input_data})\n",
    "    return response.json()\n",
    "query(l)"
   ],
   "metadata": {
    "collapsed": false,
    "ExecuteTime": {
     "end_time": "2023-10-18T00:04:44.762794200Z",
     "start_time": "2023-10-18T00:04:44.397755100Z"
    }
   },
   "id": "6af01556dd9b8c92"
  }
 ],
 "metadata": {
  "kernelspec": {
   "display_name": "Python 3",
   "language": "python",
   "name": "python3"
  },
  "language_info": {
   "codemirror_mode": {
    "name": "ipython",
    "version": 2
   },
   "file_extension": ".py",
   "mimetype": "text/x-python",
   "name": "python",
   "nbconvert_exporter": "python",
   "pygments_lexer": "ipython2",
   "version": "2.7.6"
  }
 },
 "nbformat": 4,
 "nbformat_minor": 5
}
