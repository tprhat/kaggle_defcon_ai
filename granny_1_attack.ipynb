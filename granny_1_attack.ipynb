{
 "cells": [
  {
   "cell_type": "code",
   "execution_count": 8,
   "id": "initial_id",
   "metadata": {
    "collapsed": true,
    "ExecuteTime": {
     "end_time": "2023-10-24T17:25:11.559829900Z",
     "start_time": "2023-10-24T17:25:10.628114900Z"
    }
   },
   "outputs": [
    {
     "data": {
      "text/plain": "[[0.28575703501701355, 'timber wolf'],\n [0.13912102580070496, 'red wolf'],\n [0.1217745989561081, 'coyote'],\n [0.02413186803460121, 'dingo'],\n [0.01603207364678383, 'Eskimo dog']]"
     },
     "execution_count": 8,
     "metadata": {},
     "output_type": "execute_result"
    }
   ],
   "source": [
    "import requests\n",
    "import base64\n",
    "import numpy as np\n",
    "from PIL import Image\n",
    "from io import BytesIO\n",
    "\n",
    "def array_to_base64(arr):\n",
    "    img = Image.fromarray(arr)\n",
    "    with BytesIO() as buffer:\n",
    "        # PNG FOR GRANNY, JPEG FOR GRANNY2\n",
    "        img.save(buffer, 'jpeg')  # must be png to achive same score\n",
    "        return base64.b64encode(buffer.getvalue()).decode()\n",
    "    \n",
    "with open('granny/timber_wolf.png', 'rb') as f:\n",
    "    input_data = base64.b64encode(f.read()).decode()\n",
    "\n",
    "\n",
    "# input_image = Image.open('granny/granny_8.jpeg')\n",
    "# input_data = array_to_base64(np.array(input_image))\n",
    "\n",
    "def query(input_data):\n",
    "    response = requests.post('http://granny.advml.com/score', json={'data': input_data})\n",
    "    return response.json()\n",
    "\n",
    "\n",
    "query(input_data)['output'][0:5]"
   ]
  },
  {
   "cell_type": "code",
   "execution_count": 12,
   "outputs": [
    {
     "data": {
      "text/plain": "[[0.9347063302993774, 'Granny Smith'],\n [0.004349630791693926, 'spaghetti squash'],\n [0.003459166968241334, 'lemon'],\n [0.003027713391929865, 'gong'],\n [0.002812823513522744, 'tennis ball']]"
     },
     "execution_count": 12,
     "metadata": {},
     "output_type": "execute_result"
    }
   ],
   "source": [
    "img_apple = Image.open('granny/granny_8.jpeg')\n",
    "img_apple = img_apple.rotate(4)\n",
    "img_apple = img_apple.resize((224,224))\n",
    "\n",
    "img_array = np.array(img_apple).astype(np.uint8)\n",
    "# query(array_to_base64(img_array))['output'][0:5]\n",
    "\n",
    "\n",
    "with open('granny/granny_8.jpeg', 'rb') as f:\n",
    "    input_data = base64.b64encode(f.read()).decode()\n",
    "query(input_data)['output'][0:5]\n",
    "# img_array = np.clip(img_array + delta * perturb, a_min=0, a_max = 224).astype(np.uint8)\n",
    "# img_attack = Image.fromarray(img_array)"
   ],
   "metadata": {
    "collapsed": false,
    "ExecuteTime": {
     "end_time": "2023-10-24T17:28:24.984322200Z",
     "start_time": "2023-10-24T17:28:23.629336100Z"
    }
   },
   "id": "c1f7f280563997ac"
  }
 ],
 "metadata": {
  "kernelspec": {
   "display_name": "Python 3",
   "language": "python",
   "name": "python3"
  },
  "language_info": {
   "codemirror_mode": {
    "name": "ipython",
    "version": 2
   },
   "file_extension": ".py",
   "mimetype": "text/x-python",
   "name": "python",
   "nbconvert_exporter": "python",
   "pygments_lexer": "ipython2",
   "version": "2.7.6"
  }
 },
 "nbformat": 4,
 "nbformat_minor": 5
}
