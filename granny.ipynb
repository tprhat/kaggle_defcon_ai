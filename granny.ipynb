{
 "cells": [
  {
   "cell_type": "code",
   "execution_count": 2,
   "id": "initial_id",
   "metadata": {
    "collapsed": true,
    "ExecuteTime": {
     "end_time": "2023-10-16T22:38:51.470235800Z",
     "start_time": "2023-10-16T22:38:50.685828Z"
    }
   },
   "outputs": [
    {
     "data": {
      "text/plain": "[[0.9347063302993774, 'Granny Smith'],\n [0.004349630791693926, 'spaghetti squash'],\n [0.003459166968241334, 'lemon'],\n [0.003027713391929865, 'gong'],\n [0.002812823513522744, 'tennis ball']]"
     },
     "execution_count": 2,
     "metadata": {},
     "output_type": "execute_result"
    }
   ],
   "source": [
    "import requests\n",
    "import numpy as np\n",
    "from PIL import Image\n",
    "import io\n",
    "import base64\n",
    "\n",
    "def array_to_base64(arr):\n",
    "    img = Image.fromarray(arr)\n",
    "    buffered = io.BytesIO()\n",
    "    img.save(buffered, format=\"PNG\")\n",
    "    return base64.b64encode(buffered.getvalue()).decode()\n",
    "\n",
    "\n",
    "input_image = Image.open('granny/granny_8.jpeg')\n",
    "input_data = array_to_base64(np.array(input_image))\n",
    "\n",
    "def query(input_data):\n",
    "    response = requests.post('http://granny.advml.com/score', json={'data': input_data})\n",
    "    return response.json()['output'][0:5]\n",
    "\n",
    "query(input_data)"
   ]
  },
  {
   "cell_type": "code",
   "execution_count": 3,
   "outputs": [
    {
     "name": "stdout",
     "output_type": "stream",
     "text": [
      "Downloading data from https://storage.googleapis.com/tensorflow/keras-applications/mobilenet_v2/mobilenet_v2_weights_tf_dim_ordering_tf_kernels_1.0_224.h5\n",
      "14536120/14536120 [==============================] - 1s 0us/step\n"
     ]
    }
   ],
   "source": [
    "import tensorflow as tf\n",
    "image_net = tf.keras.applications.mobilenet_v2.MobileNetV2(\n",
    "    input_shape=None,\n",
    "    alpha=1.0,\n",
    "    include_top=True,\n",
    "    weights='imagenet',\n",
    "    input_tensor=None,\n",
    "    pooling=None,\n",
    "    classes=1000,\n",
    "    classifier_activation='softmax',\n",
    ")"
   ],
   "metadata": {
    "collapsed": false,
    "ExecuteTime": {
     "end_time": "2023-10-16T22:39:12.366371200Z",
     "start_time": "2023-10-16T22:39:05.625849700Z"
    }
   },
   "id": "7f7b23e19b534a06"
  },
  {
   "cell_type": "code",
   "execution_count": 6,
   "outputs": [
    {
     "ename": "AttributeError",
     "evalue": "'numpy.ndarray' object has no attribute '_keras_mask'",
     "output_type": "error",
     "traceback": [
      "\u001B[1;31m---------------------------------------------------------------------------\u001B[0m",
      "\u001B[1;31mAttributeError\u001B[0m                            Traceback (most recent call last)",
      "Cell \u001B[1;32mIn[6], line 1\u001B[0m\n\u001B[1;32m----> 1\u001B[0m \u001B[43mimage_net\u001B[49m\u001B[38;5;241;43m.\u001B[39;49m\u001B[43mcall\u001B[49m\u001B[43m(\u001B[49m\u001B[43mnp\u001B[49m\u001B[38;5;241;43m.\u001B[39;49m\u001B[43marray\u001B[49m\u001B[43m(\u001B[49m\u001B[43minput_image\u001B[49m\u001B[43m)\u001B[49m\u001B[43m)\u001B[49m\n",
      "File \u001B[1;32m~\\PycharmProjects\\kaggle_defcon_ai\\venv\\lib\\site-packages\\keras\\src\\engine\\functional.py:515\u001B[0m, in \u001B[0;36mFunctional.call\u001B[1;34m(self, inputs, training, mask)\u001B[0m\n\u001B[0;32m    496\u001B[0m \u001B[38;5;129m@doc_controls\u001B[39m\u001B[38;5;241m.\u001B[39mdo_not_doc_inheritable\n\u001B[0;32m    497\u001B[0m \u001B[38;5;28;01mdef\u001B[39;00m \u001B[38;5;21mcall\u001B[39m(\u001B[38;5;28mself\u001B[39m, inputs, training\u001B[38;5;241m=\u001B[39m\u001B[38;5;28;01mNone\u001B[39;00m, mask\u001B[38;5;241m=\u001B[39m\u001B[38;5;28;01mNone\u001B[39;00m):\n\u001B[0;32m    498\u001B[0m \u001B[38;5;250m    \u001B[39m\u001B[38;5;124;03m\"\"\"Calls the model on new inputs.\u001B[39;00m\n\u001B[0;32m    499\u001B[0m \n\u001B[0;32m    500\u001B[0m \u001B[38;5;124;03m    In this case `call` just reapplies\u001B[39;00m\n\u001B[1;32m   (...)\u001B[0m\n\u001B[0;32m    513\u001B[0m \u001B[38;5;124;03m        a list of tensors if there are more than one outputs.\u001B[39;00m\n\u001B[0;32m    514\u001B[0m \u001B[38;5;124;03m    \"\"\"\u001B[39;00m\n\u001B[1;32m--> 515\u001B[0m     \u001B[38;5;28;01mreturn\u001B[39;00m \u001B[38;5;28;43mself\u001B[39;49m\u001B[38;5;241;43m.\u001B[39;49m\u001B[43m_run_internal_graph\u001B[49m\u001B[43m(\u001B[49m\u001B[43minputs\u001B[49m\u001B[43m,\u001B[49m\u001B[43m \u001B[49m\u001B[43mtraining\u001B[49m\u001B[38;5;241;43m=\u001B[39;49m\u001B[43mtraining\u001B[49m\u001B[43m,\u001B[49m\u001B[43m \u001B[49m\u001B[43mmask\u001B[49m\u001B[38;5;241;43m=\u001B[39;49m\u001B[43mmask\u001B[49m\u001B[43m)\u001B[49m\n",
      "File \u001B[1;32m~\\PycharmProjects\\kaggle_defcon_ai\\venv\\lib\\site-packages\\keras\\src\\engine\\functional.py:648\u001B[0m, in \u001B[0;36mFunctional._run_internal_graph\u001B[1;34m(self, inputs, training, mask)\u001B[0m\n\u001B[0;32m    646\u001B[0m     masks \u001B[38;5;241m=\u001B[39m \u001B[38;5;28mself\u001B[39m\u001B[38;5;241m.\u001B[39m_flatten_to_reference_inputs(mask)\n\u001B[0;32m    647\u001B[0m \u001B[38;5;28;01mfor\u001B[39;00m input_t, mask \u001B[38;5;129;01min\u001B[39;00m \u001B[38;5;28mzip\u001B[39m(inputs, masks):\n\u001B[1;32m--> 648\u001B[0m     \u001B[43minput_t\u001B[49m\u001B[38;5;241;43m.\u001B[39;49m\u001B[43m_keras_mask\u001B[49m \u001B[38;5;241m=\u001B[39m mask\n\u001B[0;32m    650\u001B[0m \u001B[38;5;66;03m# Dictionary mapping reference tensors to computed tensors.\u001B[39;00m\n\u001B[0;32m    651\u001B[0m tensor_dict \u001B[38;5;241m=\u001B[39m {}\n",
      "\u001B[1;31mAttributeError\u001B[0m: 'numpy.ndarray' object has no attribute '_keras_mask'"
     ]
    }
   ],
   "source": [
    "## figure out how to get the image into the right format\n",
    "## just do this in a normal python script\n",
    "## copilot to the rescue\n",
    "image_net.call(np.array(input_image))"
   ],
   "metadata": {
    "collapsed": false,
    "ExecuteTime": {
     "end_time": "2023-10-16T22:41:23.660603200Z",
     "start_time": "2023-10-16T22:41:23.515187400Z"
    }
   },
   "id": "f517e732722ac02"
  }
 ],
 "metadata": {
  "kernelspec": {
   "display_name": "Python 3",
   "language": "python",
   "name": "python3"
  },
  "language_info": {
   "codemirror_mode": {
    "name": "ipython",
    "version": 2
   },
   "file_extension": ".py",
   "mimetype": "text/x-python",
   "name": "python",
   "nbconvert_exporter": "python",
   "pygments_lexer": "ipython2",
   "version": "2.7.6"
  }
 },
 "nbformat": 4,
 "nbformat_minor": 5
}
