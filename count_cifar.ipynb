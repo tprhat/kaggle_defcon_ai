{
 "cells": [
  {
   "cell_type": "code",
   "execution_count": 12,
   "id": "initial_id",
   "metadata": {
    "collapsed": true,
    "ExecuteTime": {
     "end_time": "2023-10-19T20:58:04.045553300Z",
     "start_time": "2023-10-19T20:58:03.527644100Z"
    }
   },
   "outputs": [],
   "source": [
    "import numpy as np\n",
    "import pandas as pd\n",
    "import os\n",
    "from PIL import Image\n",
    "import matplotlib.pyplot as plt"
   ]
  },
  {
   "cell_type": "code",
   "execution_count": 5,
   "outputs": [
    {
     "data": {
      "text/plain": "          id       label\n0          1        frog\n1          2       truck\n2          3       truck\n3          4        deer\n4          5  automobile\n...      ...         ...\n49995  49996        bird\n49996  49997        frog\n49997  49998       truck\n49998  49999  automobile\n49999  50000  automobile\n\n[50000 rows x 2 columns]",
      "text/html": "<div>\n<style scoped>\n    .dataframe tbody tr th:only-of-type {\n        vertical-align: middle;\n    }\n\n    .dataframe tbody tr th {\n        vertical-align: top;\n    }\n\n    .dataframe thead th {\n        text-align: right;\n    }\n</style>\n<table border=\"1\" class=\"dataframe\">\n  <thead>\n    <tr style=\"text-align: right;\">\n      <th></th>\n      <th>id</th>\n      <th>label</th>\n    </tr>\n  </thead>\n  <tbody>\n    <tr>\n      <th>0</th>\n      <td>1</td>\n      <td>frog</td>\n    </tr>\n    <tr>\n      <th>1</th>\n      <td>2</td>\n      <td>truck</td>\n    </tr>\n    <tr>\n      <th>2</th>\n      <td>3</td>\n      <td>truck</td>\n    </tr>\n    <tr>\n      <th>3</th>\n      <td>4</td>\n      <td>deer</td>\n    </tr>\n    <tr>\n      <th>4</th>\n      <td>5</td>\n      <td>automobile</td>\n    </tr>\n    <tr>\n      <th>...</th>\n      <td>...</td>\n      <td>...</td>\n    </tr>\n    <tr>\n      <th>49995</th>\n      <td>49996</td>\n      <td>bird</td>\n    </tr>\n    <tr>\n      <th>49996</th>\n      <td>49997</td>\n      <td>frog</td>\n    </tr>\n    <tr>\n      <th>49997</th>\n      <td>49998</td>\n      <td>truck</td>\n    </tr>\n    <tr>\n      <th>49998</th>\n      <td>49999</td>\n      <td>automobile</td>\n    </tr>\n    <tr>\n      <th>49999</th>\n      <td>50000</td>\n      <td>automobile</td>\n    </tr>\n  </tbody>\n</table>\n<p>50000 rows × 2 columns</p>\n</div>"
     },
     "execution_count": 5,
     "metadata": {},
     "output_type": "execute_result"
    }
   ],
   "source": [
    "with open('cifar/trainLabels.csv') as f:\n",
    "    labels = pd.read_csv(f)\n",
    "    \n",
    "labels"
   ],
   "metadata": {
    "collapsed": false,
    "ExecuteTime": {
     "end_time": "2023-10-19T20:57:02.748246800Z",
     "start_time": "2023-10-19T20:57:02.705515700Z"
    }
   },
   "id": "c8eb27745edb8c5d"
  },
  {
   "cell_type": "code",
   "execution_count": 14,
   "outputs": [
    {
     "data": {
      "text/plain": "label\nfrog          5000\ntruck         5000\ndeer          5000\nautomobile    5000\nbird          5000\nhorse         5000\nship          5000\ncat           5000\ndog           5000\nairplane      5000\nName: count, dtype: int64"
     },
     "execution_count": 14,
     "metadata": {},
     "output_type": "execute_result"
    }
   ],
   "source": [
    "labels['label'].value_counts()"
   ],
   "metadata": {
    "collapsed": false,
    "ExecuteTime": {
     "end_time": "2023-10-19T20:58:35.730412800Z",
     "start_time": "2023-10-19T20:58:35.688728400Z"
    }
   },
   "id": "dadf3b7ed897d30b"
  },
  {
   "cell_type": "code",
   "execution_count": 15,
   "outputs": [
    {
     "data": {
      "text/plain": "<PIL.Image.Image image mode=RGB size=32x32>",
      "image/png": "[encoded data removed]",
      "image/jpeg": "[encoded data removed]"
     },
     "execution_count": 15,
     "metadata": {},
     "output_type": "execute_result"
    }
   ],
   "source": [
    "img = Image.open('cifar/train/1.png')\n",
    "img.convert('RGB')"
   ],
   "metadata": {
    "collapsed": false,
    "ExecuteTime": {
     "end_time": "2023-10-19T20:59:33.277026300Z",
     "start_time": "2023-10-19T20:59:33.232448600Z"
    }
   },
   "id": "8586119619a09214"
  },
  {
   "cell_type": "code",
   "execution_count": 21,
   "outputs": [],
   "source": [
    "img_np = np.array(img)"
   ],
   "metadata": {
    "collapsed": false,
    "ExecuteTime": {
     "end_time": "2023-10-19T21:00:17.300366Z",
     "start_time": "2023-10-19T21:00:17.278759600Z"
    }
   },
   "id": "b29a5dd2674f34cf"
  },
  {
   "cell_type": "code",
   "execution_count": 22,
   "outputs": [
    {
     "data": {
      "text/plain": "array([[[ 59,  62,  63],\n        [ 43,  46,  45],\n        [ 50,  48,  43],\n        ...,\n        [158, 132, 108],\n        [152, 125, 102],\n        [148, 124, 103]],\n\n       [[ 16,  20,  20],\n        [  0,   0,   0],\n        [ 18,   8,   0],\n        ...,\n        [123,  88,  55],\n        [119,  83,  50],\n        [122,  87,  57]],\n\n       [[ 25,  24,  21],\n        [ 16,   7,   0],\n        [ 49,  27,   8],\n        ...,\n        [118,  84,  50],\n        [120,  84,  50],\n        [109,  73,  42]],\n\n       ...,\n\n       [[208, 170,  96],\n        [201, 153,  34],\n        [198, 161,  26],\n        ...,\n        [160, 133,  70],\n        [ 56,  31,   7],\n        [ 53,  34,  20]],\n\n       [[180, 139,  96],\n        [173, 123,  42],\n        [186, 144,  30],\n        ...,\n        [184, 148,  94],\n        [ 97,  62,  34],\n        [ 83,  53,  34]],\n\n       [[177, 144, 116],\n        [168, 129,  94],\n        [179, 142,  87],\n        ...,\n        [216, 184, 140],\n        [151, 118,  84],\n        [123,  92,  72]]], dtype=uint8)"
     },
     "execution_count": 22,
     "metadata": {},
     "output_type": "execute_result"
    }
   ],
   "source": [
    "img_np"
   ],
   "metadata": {
    "collapsed": false,
    "ExecuteTime": {
     "end_time": "2023-10-19T21:00:17.754092100Z",
     "start_time": "2023-10-19T21:00:17.722658Z"
    }
   },
   "id": "953e24bf78258216"
  },
  {
   "cell_type": "code",
   "execution_count": 16,
   "outputs": [
    {
     "data": {
      "text/plain": "<matplotlib.image.AxesImage at 0x26a702f50f0>"
     },
     "execution_count": 16,
     "metadata": {},
     "output_type": "execute_result"
    },
    {
     "data": {
      "text/plain": "<Figure size 1000x1000 with 1 Axes>",
      "image/png": "[encoded data removed]"
     },
     "metadata": {},
     "output_type": "display_data"
    }
   ],
   "source": [
    "plt.figure(figsize=(10,10))\n",
    "plt.imshow(img)"
   ],
   "metadata": {
    "collapsed": false,
    "ExecuteTime": {
     "end_time": "2023-10-19T20:59:37.061059500Z",
     "start_time": "2023-10-19T20:59:36.805792800Z"
    }
   },
   "id": "b2c364ba88a29dd"
  },
  {
   "cell_type": "markdown",
   "source": [
    "## CIFAR-100"
   ],
   "metadata": {
    "collapsed": false
   },
   "id": "aef5d03b5d274b2a"
  },
  {
   "cell_type": "code",
   "execution_count": 51,
   "outputs": [
    {
     "name": "stdout",
     "output_type": "stream",
     "text": [
      "Downloading data from https://www.cs.toronto.edu/~kriz/cifar-100-python.tar.gz\n",
      "169001437/169001437 [==============================] - 10s 0us/step\n"
     ]
    }
   ],
   "source": [
    "import tensorflow as tf\n",
    "# noinspection PyUnresolvedReferences\n",
    "from tensorflow.keras.datasets import cifar100\n",
    "\n",
    "(X_train, y_train), (X_test, y_test) = cifar100.load_data(label_mode='fine')"
   ],
   "metadata": {
    "collapsed": false,
    "ExecuteTime": {
     "end_time": "2023-10-19T21:17:16.787037900Z",
     "start_time": "2023-10-19T21:16:59.854896300Z"
    }
   },
   "id": "398596c0950549a4"
  },
  {
   "cell_type": "code",
   "execution_count": 52,
   "outputs": [
    {
     "name": "stdout",
     "output_type": "stream",
     "text": [
      "(50000, 32, 32, 3) (50000, 1)\n"
     ]
    }
   ],
   "source": [
    "print(X_train.shape,y_train.shape)"
   ],
   "metadata": {
    "collapsed": false,
    "ExecuteTime": {
     "end_time": "2023-10-19T21:17:59.112326Z",
     "start_time": "2023-10-19T21:17:59.089980300Z"
    }
   },
   "id": "1cf3258c9ea2b8dd"
  },
  {
   "cell_type": "code",
   "execution_count": 56,
   "outputs": [
    {
     "data": {
      "text/plain": "array([[[255, 255, 255],\n        [255, 255, 255],\n        [255, 255, 255],\n        ...,\n        [195, 205, 193],\n        [212, 224, 204],\n        [182, 194, 167]],\n\n       [[255, 255, 255],\n        [254, 254, 254],\n        [254, 254, 254],\n        ...,\n        [170, 176, 150],\n        [161, 168, 130],\n        [146, 154, 113]],\n\n       [[255, 255, 255],\n        [254, 254, 254],\n        [255, 255, 255],\n        ...,\n        [189, 199, 169],\n        [166, 178, 130],\n        [121, 133,  87]],\n\n       ...,\n\n       [[148, 185,  79],\n        [142, 182,  57],\n        [140, 179,  60],\n        ...,\n        [ 30,  17,   1],\n        [ 65,  62,  15],\n        [ 76,  77,  20]],\n\n       [[122, 157,  66],\n        [120, 155,  58],\n        [126, 160,  71],\n        ...,\n        [ 22,  16,   3],\n        [ 97, 112,  56],\n        [141, 161,  87]],\n\n       [[ 87, 122,  41],\n        [ 88, 122,  39],\n        [101, 134,  56],\n        ...,\n        [ 34,  36,  10],\n        [105, 133,  59],\n        [138, 173,  79]]], dtype=uint8)"
     },
     "execution_count": 56,
     "metadata": {},
     "output_type": "execute_result"
    }
   ],
   "source": [
    "X_train[0]"
   ],
   "metadata": {
    "collapsed": false,
    "ExecuteTime": {
     "end_time": "2023-10-19T21:24:49.280981500Z",
     "start_time": "2023-10-19T21:24:49.216254800Z"
    }
   },
   "id": "cd671002a3f39e4c"
  },
  {
   "cell_type": "markdown",
   "source": [
    "## count number of non zero pixels"
   ],
   "metadata": {
    "collapsed": false
   },
   "id": "ed42558499d8fb4b"
  },
  {
   "cell_type": "code",
   "execution_count": 76,
   "outputs": [],
   "source": [
    "from collections import defaultdict, Counter\n",
    "\n",
    "r = defaultdict(int)\n",
    "g = defaultdict(int)\n",
    "b = defaultdict(int)\n",
    "\n",
    "\n",
    "for i in range(len(X_train)):\n",
    "    for row in range(len(X_train[i])):\n",
    "        for col in range(len(X_train[i][row])):\n",
    "            if X_train[i][row][col][0] > 0:\n",
    "                r[y_train[i].item()] += 1\n",
    "            if X_train[i][row][col][1] > 0:\n",
    "                g[y_train[i].item()] += 1\n",
    "            if X_train[i][row][col][2] > 0:\n",
    "                b[y_train[i].item()] += 1"
   ],
   "metadata": {
    "collapsed": false,
    "ExecuteTime": {
     "end_time": "2023-10-19T21:53:09.696447500Z",
     "start_time": "2023-10-19T21:47:12.775952900Z"
    }
   },
   "id": "84df2dd5f0fc16e4"
  },
  {
   "cell_type": "code",
   "execution_count": 87,
   "outputs": [],
   "source": [
    "r_train = r.copy()\n",
    "g_train = g.copy()\n",
    "b_train = b.copy()"
   ],
   "metadata": {
    "collapsed": false,
    "ExecuteTime": {
     "end_time": "2023-10-19T21:59:17.381680Z",
     "start_time": "2023-10-19T21:59:17.351938700Z"
    }
   },
   "id": "16ca639adfeb36ba"
  },
  {
   "cell_type": "code",
   "execution_count": 88,
   "outputs": [],
   "source": [
    "for i in range(len(X_test)):\n",
    "    for row in range(len(X_test[i])):\n",
    "        for col in range(len(X_test[i][row])):\n",
    "            if X_test[i][row][col][0] > 0:\n",
    "                r[y_test[i].item()] += 1\n",
    "            if X_test[i][row][col][1] > 0:\n",
    "                g[y_test[i].item()] += 1\n",
    "            if X_test[i][row][col][2] > 0:\n",
    "                b[y_test[i].item()] += 1"
   ],
   "metadata": {
    "collapsed": false,
    "ExecuteTime": {
     "end_time": "2023-10-19T22:00:33.787780300Z",
     "start_time": "2023-10-19T21:59:22.032546800Z"
    }
   },
   "id": "9423de7c10e9075d"
  },
  {
   "cell_type": "code",
   "execution_count": 89,
   "outputs": [],
   "source": [
    "l = []\n",
    "\n",
    "for i in range(100):\n",
    "    l.append([r[i], g[i], b[i], 600])"
   ],
   "metadata": {
    "collapsed": false,
    "ExecuteTime": {
     "end_time": "2023-10-19T22:00:41.303915300Z",
     "start_time": "2023-10-19T22:00:41.281850300Z"
    }
   },
   "id": "ac661755c74a2dcc"
  },
  {
   "cell_type": "code",
   "execution_count": 90,
   "outputs": [
    {
     "data": {
      "text/plain": "{'message': 'Wrong shape - should be (100, 4)'}"
     },
     "execution_count": 90,
     "metadata": {},
     "output_type": "execute_result"
    }
   ],
   "source": [
    "import requests\n",
    "\n",
    "input_data = [125, 245, 0, 10000]\n",
    "\n",
    "def query(input_data):\n",
    "    response = requests.post('http://count-cifar.advml.com/score', json={'data': input_data})\n",
    "    return response.json()\n",
    "\n",
    "query(input_data)"
   ],
   "metadata": {
    "collapsed": false,
    "ExecuteTime": {
     "end_time": "2023-10-19T22:00:42.665161600Z",
     "start_time": "2023-10-19T22:00:42.326010900Z"
    }
   },
   "id": "7cc116fb68af7103"
  },
  {
   "cell_type": "code",
   "execution_count": 91,
   "outputs": [
    {
     "data": {
      "text/plain": "{'message': 'Try again!'}"
     },
     "execution_count": 91,
     "metadata": {},
     "output_type": "execute_result"
    }
   ],
   "source": [
    "query(l)"
   ],
   "metadata": {
    "collapsed": false,
    "ExecuteTime": {
     "end_time": "2023-10-19T22:00:45.915589400Z",
     "start_time": "2023-10-19T22:00:45.629892500Z"
    }
   },
   "id": "c663db4f10531ea"
  },
  {
   "cell_type": "markdown",
   "source": [
    "## each channel highest value"
   ],
   "metadata": {
    "collapsed": false
   },
   "id": "32f874fca739103e"
  },
  {
   "cell_type": "code",
   "execution_count": 92,
   "outputs": [],
   "source": [
    "\n",
    "r = defaultdict(int)\n",
    "g = defaultdict(int)\n",
    "b = defaultdict(int)\n",
    "\n",
    "\n",
    "for i in range(len(X_train)):\n",
    "    for row in range(len(X_train[i])):\n",
    "        for col in range(len(X_train[i][row])):\n",
    "            if X_train[i][row][col][0] > r[y_train[i].item()]:\n",
    "                r[y_train[i].item()] = X_train[i][row][col][0]\n",
    "            if X_train[i][row][col][1] > g[y_train[i].item()]:\n",
    "                g[y_train[i].item()] = X_train[i][row][col][1]\n",
    "            if X_train[i][row][col][2] > b[y_train[i].item()]:\n",
    "                b[y_train[i].item()] = X_train[i][row][col][2]"
   ],
   "metadata": {
    "collapsed": false,
    "ExecuteTime": {
     "end_time": "2023-10-19T22:15:12.306388200Z",
     "start_time": "2023-10-19T22:13:03.203720500Z"
    }
   },
   "id": "ff0dbb8cb510fc97"
  },
  {
   "cell_type": "code",
   "execution_count": 101,
   "outputs": [],
   "source": [
    "l = []\n",
    "\n",
    "for i in range(100):\n",
    "    l.append([int(r[i]), int(g[i]), int(b[i]), 600])"
   ],
   "metadata": {
    "collapsed": false,
    "ExecuteTime": {
     "end_time": "2023-10-19T22:17:45.214304700Z",
     "start_time": "2023-10-19T22:17:45.192074Z"
    }
   },
   "id": "11453079004d6600"
  },
  {
   "cell_type": "code",
   "execution_count": 101,
   "outputs": [],
   "source": [],
   "metadata": {
    "collapsed": false,
    "ExecuteTime": {
     "end_time": "2023-10-19T22:17:45.596614300Z",
     "start_time": "2023-10-19T22:17:45.562106700Z"
    }
   },
   "id": "3179ec7390e0b6b5"
  },
  {
   "cell_type": "code",
   "execution_count": 102,
   "outputs": [
    {
     "data": {
      "text/plain": "{'message': 'Try again!'}"
     },
     "execution_count": 102,
     "metadata": {},
     "output_type": "execute_result"
    }
   ],
   "source": [
    "query(l)"
   ],
   "metadata": {
    "collapsed": false,
    "ExecuteTime": {
     "end_time": "2023-10-19T22:17:46.348891600Z",
     "start_time": "2023-10-19T22:17:46.090907100Z"
    }
   },
   "id": "49e8e173e8d2c0d5"
  },
  {
   "cell_type": "code",
   "execution_count": null,
   "outputs": [],
   "source": [
    "for i in range(len(X_test)):\n",
    "    for row in range(len(X_test[i])):\n",
    "        for col in range(len(X_test[i][row])):\n",
    "            if X_test[i][row][col][0] > r[y_test[i].item()]:\n",
    "                r[y_test[i].item()] = X_test[i][row][col][0]\n",
    "            if X_test[i][row][col][1] > g[y_test[i].item()]:\n",
    "                g[y_test[i].item()] = X_test[i][row][col][1]\n",
    "            if X_test[i][row][col][2] > b[y_test[i].item()]:\n",
    "                b[y_test[i].item()] = X_test[i][row][col][2]"
   ],
   "metadata": {
    "collapsed": false
   },
   "id": "8579745421fc182b"
  },
  {
   "cell_type": "code",
   "execution_count": null,
   "outputs": [],
   "source": [
    "l = []\n",
    "\n",
    "for i in range(100):\n",
    "    l.append([r[i], g[i], b[i], 600])"
   ],
   "metadata": {
    "collapsed": false
   },
   "id": "c140d0e2f84ab4d0"
  },
  {
   "cell_type": "code",
   "execution_count": null,
   "outputs": [],
   "source": [
    "query(l)"
   ],
   "metadata": {
    "collapsed": false
   },
   "id": "2bc0ebb12747c8b"
  },
  {
   "cell_type": "markdown",
   "source": [
    "## most common value"
   ],
   "metadata": {
    "collapsed": false
   },
   "id": "af495fa5a26befa9"
  },
  {
   "cell_type": "code",
   "execution_count": 118,
   "outputs": [],
   "source": [
    "\n",
    "\n",
    "l = []\n",
    "for c in range(100):\n",
    "    r = defaultdict(int)\n",
    "    g = defaultdict(int)\n",
    "    b = defaultdict(int)\n",
    "    ids = np.where(y_train == c)[0]\n",
    "    for i in ids:\n",
    "        for row in range(len(X_train[i])):\n",
    "            for col in range(len(X_train[i][row])):\n",
    "                r[X_train[i][row][col][0]] += 1\n",
    "                g[X_train[i][row][col][1]] += 1\n",
    "                b[X_train[i][row][col][2]] += 1\n",
    "    l.append([Counter(r).most_common(1)[0][0], Counter(g).most_common(1)[0][0], Counter(b).most_common(1)[0][0], 500])"
   ],
   "metadata": {
    "collapsed": false,
    "ExecuteTime": {
     "end_time": "2023-10-19T22:30:39.880215800Z",
     "start_time": "2023-10-19T22:28:57.859040500Z"
    }
   },
   "id": "cea813fa23e08fa2"
  },
  {
   "cell_type": "code",
   "execution_count": 121,
   "outputs": [],
   "source": [
    "l1 = []\n",
    "    \n",
    "for x,y,z,w in l:\n",
    "    l1.append([int(x),int(y),int(z),w])"
   ],
   "metadata": {
    "collapsed": false,
    "ExecuteTime": {
     "end_time": "2023-10-19T22:33:50.213607400Z",
     "start_time": "2023-10-19T22:33:50.143987100Z"
    }
   },
   "id": "ec6108deb4acf44b"
  },
  {
   "cell_type": "code",
   "execution_count": 124,
   "outputs": [],
   "source": [
    "l2 = []\n",
    "for c in range(100):\n",
    "    r = defaultdict(int)\n",
    "    g = defaultdict(int)\n",
    "    b = defaultdict(int)\n",
    "    ids = np.where(y_test == c)[0]\n",
    "    for i in ids:\n",
    "        for row in range(len(X_test[i])):\n",
    "            for col in range(len(X_test[i][row])):\n",
    "                r[X_test[i][row][col][0]] += 1\n",
    "                g[X_test[i][row][col][1]] += 1\n",
    "                b[X_test[i][row][col][2]] += 1\n",
    "    l2.append([int(Counter(r).most_common(1)[0][0]), int(Counter(g).most_common(1)[0][0]), int(Counter(b).most_common(1)[0][0]), 100])"
   ],
   "metadata": {
    "collapsed": false,
    "ExecuteTime": {
     "end_time": "2023-10-19T22:36:12.557069300Z",
     "start_time": "2023-10-19T22:35:50.584146Z"
    }
   },
   "id": "62d45a1e4920ca0"
  },
  {
   "cell_type": "code",
   "execution_count": 125,
   "outputs": [],
   "source": [
    "for i in range(100):\n",
    "    l1[i][0] += l2[i][0]\n",
    "    l1[i][1] += l2[i][1]\n",
    "    l1[i][2] += l2[i][2]\n",
    "    l1[i][3] += l2[i][3]"
   ],
   "metadata": {
    "collapsed": false,
    "ExecuteTime": {
     "end_time": "2023-10-19T22:36:22.149972500Z",
     "start_time": "2023-10-19T22:36:22.103991400Z"
    }
   },
   "id": "57696a7fba7c0e4c"
  },
  {
   "cell_type": "code",
   "execution_count": 127,
   "outputs": [
    {
     "data": {
      "text/plain": "[[510, 510, 510, 600],\n [0, 0, 0, 600],\n [509, 509, 509, 600],\n [258, 299, 166, 600],\n [510, 510, 510, 600],\n [510, 510, 510, 600],\n [510, 510, 11, 600],\n [510, 510, 510, 600],\n [510, 510, 510, 600],\n [510, 510, 510, 600],\n [510, 510, 510, 600],\n [510, 510, 510, 600],\n [172, 340, 510, 600],\n [510, 510, 510, 600],\n [510, 510, 276, 600],\n [387, 381, 348, 600],\n [510, 510, 510, 600],\n [510, 510, 510, 600],\n [353, 386, 321, 600],\n [253, 391, 113, 600],\n [510, 510, 510, 600],\n [510, 291, 74, 600],\n [510, 510, 510, 600],\n [255, 296, 370, 600],\n [510, 510, 510, 600],\n [510, 510, 510, 600],\n [510, 510, 510, 600],\n [227, 231, 152, 600],\n [510, 510, 510, 600],\n [510, 510, 510, 600],\n [3, 242, 278, 600],\n [510, 359, 322, 600],\n [510, 510, 510, 600],\n [177, 192, 94, 600],\n [215, 224, 133, 600],\n [510, 510, 510, 600],\n [510, 375, 352, 600],\n [510, 510, 510, 600],\n [415, 268, 205, 600],\n [510, 510, 510, 600],\n [510, 510, 510, 600],\n [510, 510, 510, 600],\n [202, 192, 117, 600],\n [272, 220, 114, 600],\n [388, 368, 327, 600],\n [510, 510, 510, 600],\n [510, 510, 510, 600],\n [510, 510, 510, 600],\n [510, 510, 510, 600],\n [211, 232, 508, 600],\n [510, 510, 510, 600],\n [156, 195, 95, 600],\n [510, 510, 510, 600],\n [510, 510, 510, 600],\n [256, 256, 1, 600],\n [510, 510, 510, 600],\n [193, 242, 510, 600],\n [510, 510, 510, 600],\n [510, 510, 510, 600],\n [510, 510, 510, 600],\n [283, 510, 510, 600],\n [510, 510, 510, 600],\n [503, 88, 6, 600],\n [186, 179, 151, 600],\n [122, 109, 69, 600],\n [212, 228, 109, 600],\n [370, 374, 313, 600],\n [2, 420, 412, 600],\n [231, 395, 352, 600],\n [509, 390, 427, 600],\n [510, 510, 286, 600],\n [262, 276, 327, 600],\n [256, 385, 510, 600],\n [1, 1, 385, 600],\n [508, 356, 117, 600],\n [510, 510, 153, 600],\n [510, 510, 510, 600],\n [383, 366, 311, 600],\n [510, 510, 510, 600],\n [232, 261, 142, 600],\n [231, 254, 163, 600],\n [510, 510, 510, 600],\n [510, 510, 260, 600],\n [510, 510, 510, 600],\n [510, 510, 510, 600],\n [510, 510, 510, 600],\n [510, 510, 510, 600],\n [510, 510, 510, 600],\n [378, 354, 312, 600],\n [418, 510, 510, 600],\n [353, 347, 510, 600],\n [510, 510, 510, 600],\n [253, 68, 36, 600],\n [256, 510, 510, 600],\n [510, 510, 510, 600],\n [510, 510, 510, 600],\n [510, 510, 510, 600],\n [227, 207, 135, 600],\n [510, 510, 510, 600],\n [256, 510, 256, 600]]"
     },
     "execution_count": 127,
     "metadata": {},
     "output_type": "execute_result"
    }
   ],
   "source": [
    "l1"
   ],
   "metadata": {
    "collapsed": false,
    "ExecuteTime": {
     "end_time": "2023-10-19T22:36:30.846223600Z",
     "start_time": "2023-10-19T22:36:30.827919300Z"
    }
   },
   "id": "5056c0a1424119c4"
  },
  {
   "cell_type": "code",
   "execution_count": 128,
   "outputs": [],
   "source": [
    "for i in range(100):\n",
    "    l1[i][3] = 10000"
   ],
   "metadata": {
    "collapsed": false,
    "ExecuteTime": {
     "end_time": "2023-10-19T22:39:19.270728900Z",
     "start_time": "2023-10-19T22:39:19.249514300Z"
    }
   },
   "id": "b62d3424e3e23b14"
  },
  {
   "cell_type": "code",
   "execution_count": 130,
   "outputs": [
    {
     "data": {
      "text/plain": "{'message': 'Try again!'}"
     },
     "execution_count": 130,
     "metadata": {},
     "output_type": "execute_result"
    }
   ],
   "source": [
    "query(l2)"
   ],
   "metadata": {
    "collapsed": false,
    "ExecuteTime": {
     "end_time": "2023-10-19T22:53:36.369834500Z",
     "start_time": "2023-10-19T22:53:36.041647800Z"
    }
   },
   "id": "5cc24bcd8017e47e"
  }
 ],
 "metadata": {
  "kernelspec": {
   "display_name": "Python 3",
   "language": "python",
   "name": "python3"
  },
  "language_info": {
   "codemirror_mode": {
    "name": "ipython",
    "version": 2
   },
   "file_extension": ".py",
   "mimetype": "text/x-python",
   "name": "python",
   "nbconvert_exporter": "python",
   "pygments_lexer": "ipython2",
   "version": "2.7.6"
  }
 },
 "nbformat": 4,
 "nbformat_minor": 5
}
