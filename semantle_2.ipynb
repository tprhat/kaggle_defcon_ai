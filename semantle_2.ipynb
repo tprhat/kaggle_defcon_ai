{
 "cells": [
  {
   "cell_type": "code",
   "execution_count": 19,
   "id": "initial_id",
   "metadata": {
    "collapsed": true,
    "ExecuteTime": {
     "end_time": "2023-10-18T14:45:12.644881500Z",
     "start_time": "2023-10-18T14:45:12.020116900Z"
    }
   },
   "outputs": [
    {
     "data": {
      "text/plain": "{'flag': 'gAAAAABlL-944kNAReAGfe0OYRHTx5Hcwc42Pyf8pKoZuiWBBfG1EZYce0Rb4mnKh8OVor9N8rQQiVKq-swyIN0daQlUoaHQZ48zE00GzV8IOP3J816Nqv6xU9pvtjNP6io3-K7OG224-TDdfzJudETijDnT5LcOWFf8Xp7a9BFLH23Qr9P7cTU='}"
     },
     "execution_count": 19,
     "metadata": {},
     "output_type": "execute_result"
    }
   ],
   "source": [
    "import requests\n",
    "\n",
    "input_data = \"person woman man camera tv\"\n",
    "\n",
    "def query(input_data):\n",
    "    response = requests.post('http://semantle2.advml.com/score', json={'data': input_data})\n",
    "    return response.json()\n",
    "\n",
    "query(input_data)"
   ]
  },
  {
   "cell_type": "code",
   "execution_count": 2,
   "outputs": [],
   "source": [
    "with open('semantle2/nounlist.csv', 'r') as f:\n",
    "    words = f.read().split('\\n')\n",
    "    "
   ],
   "metadata": {
    "collapsed": false,
    "ExecuteTime": {
     "end_time": "2023-10-18T11:42:13.935148500Z",
     "start_time": "2023-10-18T11:42:13.918025900Z"
    }
   },
   "id": "2d5db9958eab131b"
  },
  {
   "cell_type": "code",
   "execution_count": 6,
   "outputs": [
    {
     "name": "stdout",
     "output_type": "stream",
     "text": [
      "people\n",
      "{'message': 0.85}\n",
      "man\n",
      "{'message': 0.87}\n",
      "woman\n",
      "{'message': 0.89}\n",
      "person\n",
      "{'message': 0.85}\n",
      "television\n",
      "{'message': 0.88}\n",
      "TV\n",
      "{'message': 0.87}\n",
      "camera\n",
      "{'message': 0.89}\n",
      "photographer\n",
      "{'message': 0.85}\n"
     ]
    }
   ],
   "source": [
    "with open('semantle2/wordlist.csv', 'r') as f:\n",
    "    words = f.read().split('\\n')\n",
    "\n",
    "for word in words:\n",
    "    s = query(' '.join([word for _ in range(5)]))\n",
    "    if s['message'] > 0.84: \n",
    "        print(word)\n",
    "        print(s)\n",
    "        with open('semantle2/results.txt', 'a') as f:\n",
    "            f.write(f'{word} {s[\"message\"]}\\n')\n",
    "        with open('semantle2/wordlist_new.csv', 'a') as f:\n",
    "            f.write(f'{word}\\n')"
   ],
   "metadata": {
    "collapsed": false,
    "ExecuteTime": {
     "end_time": "2023-10-18T13:55:40.894706400Z",
     "start_time": "2023-10-18T13:26:58.550810700Z"
    }
   },
   "id": "4c5e4c98c4197794"
  },
  {
   "cell_type": "markdown",
   "source": [],
   "metadata": {
    "collapsed": false
   },
   "id": "2a7ae415d84b0e5b"
  },
  {
   "cell_type": "code",
   "execution_count": 39,
   "outputs": [
    {
     "name": "stdout",
     "output_type": "stream",
     "text": [
      "100\n"
     ]
    }
   ],
   "source": [
    "from random import randint\n",
    "ids = [randint(0, len(words)) for i in range(100)]\n",
    "print(len(set(ids)))"
   ],
   "metadata": {
    "collapsed": false,
    "ExecuteTime": {
     "end_time": "2023-10-18T10:55:37.753980800Z",
     "start_time": "2023-10-18T10:55:37.730738400Z"
    }
   },
   "id": "37422b786e8f12a3"
  },
  {
   "cell_type": "code",
   "execution_count": 34,
   "outputs": [
    {
     "name": "stdout",
     "output_type": "stream",
     "text": [
      "[2847, 2486, 3392, 3928, 2676, 3714, 1821, 1771, 925, 466, 3150, 630, 1867, 780, 3414, 3021, 1740, 3442, 2274, 3117, 2119, 3679, 3369, 1380, 3794, 1217, 3896, 1591, 4174, 1319, 2966, 1064, 2826, 1921, 1730, 2634, 2438, 1449, 2162, 1278, 252, 1373, 3386, 3314, 476, 3328, 3181, 2899, 716, 3501, 2386, 826, 45, 3339, 2191, 783, 3644, 1745, 236, 3528, 942, 2436, 2201, 3241, 3635, 1939, 4128, 1189, 1965, 2144, 1540, 2143, 648, 4056, 3607, 2440, 1882, 2998, 2746, 633, 3093, 4314, 1580, 3760, 3718, 3243, 1669, 1382, 2565, 2941, 2810, 1316, 4020, 2317, 28, 3169, 3132, 3020, 1430, 1207, 1043, 1471, 80, 2227, 1167, 2531, 1918, 3371, 3795, 3321, 949, 848, 781, 659, 1202, 1318, 753, 1239, 2357, 1824, 664, 996, 289, 2907, 534, 4121, 3233, 275, 2395, 4025, 1489, 3116, 515, 2678, 3901, 127, 2540, 1921, 3897, 3318, 1999, 3476, 1293, 2084, 1612, 852, 33, 4014, 4287, 134, 2444, 2913, 4161, 680, 2112, 2030, 861, 1426, 4259, 1902, 2047, 3063, 2487, 526, 889, 376, 305, 3396, 697, 1873, 941, 2591, 119, 3146, 4254, 1367, 3623, 220, 3626, 4293, 1229, 3149, 359, 735, 435, 207, 3298, 3246, 1629, 2250, 3987, 405, 1782, 3483, 533, 93, 396, 4217, 772, 2610]\n"
     ]
    }
   ],
   "source": [
    "print(ids)"
   ],
   "metadata": {
    "collapsed": false,
    "ExecuteTime": {
     "end_time": "2023-10-18T10:54:12.407285700Z",
     "start_time": "2023-10-18T10:54:12.386895800Z"
    }
   },
   "id": "13b98d1c6ce15a0c"
  },
  {
   "cell_type": "code",
   "execution_count": 40,
   "outputs": [],
   "source": [
    "poss = []\n",
    "for i in ids:\n",
    "    poss.append(words[i])"
   ],
   "metadata": {
    "collapsed": false,
    "ExecuteTime": {
     "end_time": "2023-10-18T10:55:40.039449900Z",
     "start_time": "2023-10-18T10:55:40.014209500Z"
    }
   },
   "id": "6b78210a69b12f13"
  },
  {
   "cell_type": "code",
   "execution_count": 41,
   "outputs": [],
   "source": [
    "from itertools import combinations\n",
    "\n",
    "noun_combos = list(combinations(poss, 5))"
   ],
   "metadata": {
    "collapsed": false,
    "ExecuteTime": {
     "end_time": "2023-10-18T10:56:00.995658700Z",
     "start_time": "2023-10-18T10:55:47.643923100Z"
    }
   },
   "id": "a2ddcae650b1ef08"
  },
  {
   "cell_type": "code",
   "execution_count": 42,
   "outputs": [
    {
     "data": {
      "text/plain": "75287520"
     },
     "execution_count": 42,
     "metadata": {},
     "output_type": "execute_result"
    }
   ],
   "source": [
    "len(noun_combos)"
   ],
   "metadata": {
    "collapsed": false,
    "ExecuteTime": {
     "end_time": "2023-10-18T10:56:04.114171Z",
     "start_time": "2023-10-18T10:56:04.085699200Z"
    }
   },
   "id": "4284e62aa285f1ec"
  },
  {
   "cell_type": "code",
   "execution_count": 5,
   "outputs": [],
   "source": [
    "with open('semantle2/noun_combos', 'w') as f:\n",
    "    f.write('\\n'.join([' '.join(combo) for combo in noun_combos]))"
   ],
   "metadata": {
    "collapsed": false,
    "ExecuteTime": {
     "end_time": "2023-10-18T09:27:21.031741700Z",
     "start_time": "2023-10-18T09:26:05.906931300Z"
    }
   },
   "id": "299fc5dbfdadf582"
  },
  {
   "cell_type": "code",
   "execution_count": null,
   "outputs": [],
   "source": [],
   "metadata": {
    "collapsed": false
   },
   "id": "84325a2c9d2549cf"
  },
  {
   "cell_type": "code",
   "execution_count": 17,
   "outputs": [],
   "source": [
    "from random import randint\n",
    "from itertools import combinations\n",
    "\n",
    "with open('semantle2/wordlist_new.csv', 'r') as f:\n",
    "    words = f.read().split('\\n')\n",
    "\n",
    "def run():\n",
    "    # ids = [randint(0, len(words)) for _ in range(100)]\n",
    "    # print(len(set(ids)))\n",
    "    # \n",
    "    # poss = []\n",
    "    # for i in ids:\n",
    "    #     poss.append(words[i])\n",
    "    # \n",
    "    noun_combos = list(combinations(words, 5))\n",
    "    \n",
    "    i = 0\n",
    "    j = 0\n",
    "    for word in noun_combos:\n",
    "        i += 1\n",
    "        j += 1\n",
    "        if j % 500 == 0:\n",
    "            print(j)\n",
    "        input_data = ' '.join(word)\n",
    "        print(input_data)\n",
    "        try:\n",
    "            s = query(input_data)\n",
    "            print(s)\n",
    "            break\n",
    "            continue\n",
    "            if s['message'] > 0.88:\n",
    "                print(input_data)\n",
    "                print(s)\n",
    "                with open('semantle2/results.txt', 'a') as f:\n",
    "                    f.write(f'{input_data} {s[\"message\"]}\\n')\n",
    "            elif s['message'] < 0.8:\n",
    "                i += 50000\n",
    "        except:\n",
    "            print(\"failed\")\n",
    "            pass"
   ],
   "metadata": {
    "collapsed": false,
    "ExecuteTime": {
     "end_time": "2023-10-18T14:43:14.816984800Z",
     "start_time": "2023-10-18T14:43:14.797522800Z"
    }
   },
   "id": "926a65b36d561dd4"
  },
  {
   "cell_type": "code",
   "execution_count": 18,
   "outputs": [
    {
     "name": "stdout",
     "output_type": "stream",
     "text": [
      "people man woman person TV\n",
      "{'message': 0.95}\n"
     ]
    }
   ],
   "source": [
    "run()"
   ],
   "metadata": {
    "collapsed": false,
    "ExecuteTime": {
     "end_time": "2023-10-18T14:43:19.287995200Z",
     "start_time": "2023-10-18T14:43:18.791156200Z"
    }
   },
   "id": "9e516e558adce26b"
  },
  {
   "cell_type": "code",
   "execution_count": null,
   "outputs": [
    {
     "name": "stdout",
     "output_type": "stream",
     "text": [
      "98\n",
      "24700500\n",
      "49651000\n",
      "74101500\n",
      "100\n",
      "24950500\n",
      "49851000\n",
      "74851500\n",
      "100\n",
      "24900500\n",
      "49901000\n",
      "74901500\n",
      "99\n",
      "24450500\n",
      "49451000\n",
      "74401500\n",
      "100\n",
      "failed\n",
      "failed\n",
      "failed\n",
      "failed\n"
     ]
    }
   ],
   "source": [
    "for i in range(10):\n",
    "    run()"
   ],
   "metadata": {
    "collapsed": false,
    "is_executing": true,
    "ExecuteTime": {
     "start_time": "2023-10-18T11:42:31.202148400Z"
    }
   },
   "id": "66ecb9b89adefdf5"
  }
 ],
 "metadata": {
  "kernelspec": {
   "display_name": "Python 3",
   "language": "python",
   "name": "python3"
  },
  "language_info": {
   "codemirror_mode": {
    "name": "ipython",
    "version": 2
   },
   "file_extension": ".py",
   "mimetype": "text/x-python",
   "name": "python",
   "nbconvert_exporter": "python",
   "pygments_lexer": "ipython2",
   "version": "2.7.6"
  }
 },
 "nbformat": 4,
 "nbformat_minor": 5
}
