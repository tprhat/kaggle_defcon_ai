{
 "cells": [
  {
   "cell_type": "code",
   "execution_count": 11,
   "id": "initial_id",
   "metadata": {
    "collapsed": true,
    "ExecuteTime": {
     "end_time": "2023-10-15T22:45:29.331521400Z",
     "start_time": "2023-10-15T22:45:28.914593500Z"
    }
   },
   "outputs": [
    {
     "data": {
      "text/plain": "{'message': 0.8}"
     },
     "execution_count": 11,
     "metadata": {},
     "output_type": "execute_result"
    }
   ],
   "source": [
    "import requests\n",
    "\n",
    "input_data = \"fire fire fire fire\"\n",
    "\n",
    "def query(input_data):\n",
    "    response = requests.post('http://semantle2.advml.com/score', json={'data': input_data})\n",
    "    return response.json()\n",
    "\n",
    "query(input_data)"
   ]
  },
  {
   "cell_type": "code",
   "execution_count": 12,
   "outputs": [],
   "source": [
    "with open('top100.csv', 'r') as f:\n",
    "    nouns = f.read().split('\\n')\n",
    "    "
   ],
   "metadata": {
    "collapsed": false,
    "ExecuteTime": {
     "end_time": "2023-10-15T22:47:26.360746300Z",
     "start_time": "2023-10-15T22:47:26.332003400Z"
    }
   },
   "id": "2d5db9958eab131b"
  },
  {
   "cell_type": "code",
   "execution_count": 19,
   "outputs": [
    {
     "data": {
      "text/plain": "{'message': 0.78}"
     },
     "execution_count": 19,
     "metadata": {},
     "output_type": "execute_result"
    }
   ],
   "source": [],
   "metadata": {
    "collapsed": false,
    "ExecuteTime": {
     "end_time": "2023-10-16T07:32:23.389423100Z",
     "start_time": "2023-10-16T07:32:22.859439600Z"
    }
   },
   "id": "37422b786e8f12a3"
  },
  {
   "cell_type": "code",
   "execution_count": 13,
   "outputs": [],
   "source": [
    "from itertools import combinations\n",
    "\n",
    "noun_combos = list(combinations(nouns, 5))"
   ],
   "metadata": {
    "collapsed": false,
    "ExecuteTime": {
     "end_time": "2023-10-15T22:47:37.539409500Z",
     "start_time": "2023-10-15T22:47:31.038305900Z"
    }
   },
   "id": "a2ddcae650b1ef08"
  },
  {
   "cell_type": "code",
   "execution_count": 16,
   "outputs": [
    {
     "data": {
      "text/plain": "75287520"
     },
     "execution_count": 16,
     "metadata": {},
     "output_type": "execute_result"
    }
   ],
   "source": [
    "len(noun_combos)"
   ],
   "metadata": {
    "collapsed": false,
    "ExecuteTime": {
     "end_time": "2023-10-15T22:49:22.669952Z",
     "start_time": "2023-10-15T22:49:22.650522100Z"
    }
   },
   "id": "4284e62aa285f1ec"
  },
  {
   "cell_type": "code",
   "execution_count": 18,
   "outputs": [
    {
     "name": "stdout",
     "output_type": "stream",
     "text": [
      "{'message': 0.87}\n",
      "{'message': 0.86}\n",
      "{'message': 0.86}\n",
      "{'message': 0.86}\n",
      "{'message': 0.86}\n",
      "{'message': 0.86}\n",
      "{'message': 0.86}\n",
      "{'message': 0.86}\n",
      "{'message': 0.86}\n",
      "{'message': 0.86}\n",
      "{'message': 0.86}\n",
      "{'message': 0.86}\n",
      "{'message': 0.86}\n",
      "{'message': 0.87}\n",
      "{'message': 0.86}\n",
      "{'message': 0.87}\n",
      "{'message': 0.86}\n",
      "500\n",
      "1000\n",
      "1500\n",
      "2000\n",
      "2500\n",
      "3000\n",
      "3500\n",
      "4000\n",
      "4500\n",
      "{'message': 0.86}\n",
      "{'message': 0.86}\n",
      "{'message': 0.86}\n",
      "5000\n",
      "{'message': 0.86}\n",
      "{'message': 0.86}\n",
      "5500\n",
      "6000\n",
      "6500\n",
      "7000\n",
      "7500\n",
      "8000\n",
      "8500\n",
      "9000\n",
      "{'message': 0.87}\n",
      "{'message': 0.86}\n",
      "{'message': 0.86}\n",
      "{'message': 0.86}\n",
      "9500\n",
      "10000\n",
      "10500\n",
      "11000\n",
      "11500\n",
      "12000\n",
      "12500\n",
      "13000\n",
      "13500\n",
      "{'message': 0.87}\n",
      "{'message': 0.86}\n",
      "{'message': 0.86}\n",
      "{'message': 0.86}\n",
      "{'message': 0.87}\n",
      "{'message': 0.86}\n",
      "{'message': 0.86}\n",
      "{'message': 0.86}\n",
      "{'message': 0.86}\n",
      "{'message': 0.86}\n",
      "{'message': 0.86}\n",
      "{'message': 0.87}\n",
      "{'message': 0.86}\n",
      "{'message': 0.86}\n",
      "{'message': 0.86}\n",
      "{'message': 0.86}\n",
      "{'message': 0.86}\n",
      "{'message': 0.86}\n",
      "{'message': 0.86}\n",
      "{'message': 0.86}\n",
      "{'message': 0.86}\n",
      "{'message': 0.86}\n",
      "{'message': 0.86}\n",
      "{'message': 0.86}\n",
      "{'message': 0.86}\n",
      "{'message': 0.87}\n",
      "{'message': 0.86}\n",
      "{'message': 0.87}\n",
      "{'message': 0.87}\n",
      "{'message': 0.86}\n",
      "14000\n",
      "14500\n",
      "15000\n",
      "{'message': 0.86}\n",
      "15500\n",
      "16000\n",
      "16500\n",
      "17000\n",
      "17500\n",
      "{'message': 0.86}\n",
      "{'message': 0.86}\n",
      "18000\n",
      "{'message': 0.86}\n",
      "{'message': 0.87}\n",
      "{'message': 0.86}\n",
      "{'message': 0.86}\n",
      "18500\n",
      "19000\n",
      "19500\n",
      "20000\n",
      "20500\n",
      "21000\n",
      "21500\n",
      "22000\n",
      "{'message': 0.86}\n",
      "22500\n",
      "{'message': 0.86}\n",
      "{'message': 0.86}\n",
      "{'message': 0.86}\n",
      "{'message': 0.86}\n",
      "{'message': 0.86}\n",
      "23000\n",
      "{'message': 0.86}\n",
      "{'message': 0.86}\n",
      "23500\n",
      "{'message': 0.87}\n",
      "{'message': 0.86}\n",
      "24000\n",
      "{'message': 0.86}\n",
      "24500\n",
      "25000\n",
      "{'message': 0.86}\n",
      "{'message': 0.86}\n",
      "25500\n",
      "26000\n",
      "{'message': 0.87}\n",
      "{'message': 0.87}\n",
      "{'message': 0.86}\n",
      "{'message': 0.86}\n",
      "26500\n",
      "27000\n",
      "27500\n",
      "28000\n",
      "28500\n",
      "29000\n",
      "29500\n",
      "30000\n",
      "30500\n",
      "31000\n",
      "31500\n",
      "32000\n",
      "32500\n",
      "33000\n",
      "33500\n",
      "34000\n",
      "34500\n",
      "35000\n",
      "35500\n",
      "36000\n",
      "36500\n",
      "37000\n",
      "37500\n",
      "38000\n",
      "38500\n",
      "39000\n",
      "39500\n",
      "40000\n",
      "40500\n",
      "41000\n",
      "41500\n",
      "42000\n",
      "42500\n",
      "43000\n",
      "43500\n",
      "44000\n",
      "44500\n",
      "45000\n",
      "45500\n",
      "46000\n",
      "46500\n",
      "47000\n",
      "47500\n",
      "48000\n",
      "48500\n",
      "49000\n",
      "49500\n",
      "50000\n",
      "50500\n",
      "51000\n",
      "51500\n",
      "52000\n",
      "52500\n",
      "53000\n",
      "53500\n",
      "54000\n",
      "54500\n",
      "55000\n",
      "55500\n",
      "56000\n",
      "56500\n",
      "57000\n",
      "57500\n",
      "58000\n",
      "58500\n",
      "59000\n",
      "59500\n",
      "60000\n",
      "60500\n",
      "61000\n",
      "61500\n",
      "62000\n",
      "62500\n",
      "63000\n",
      "63500\n"
     ]
    },
    {
     "ename": "TypeError",
     "evalue": "'>' not supported between instances of 'str' and 'float'",
     "output_type": "error",
     "traceback": [
      "\u001B[1;31m---------------------------------------------------------------------------\u001B[0m",
      "\u001B[1;31mTypeError\u001B[0m                                 Traceback (most recent call last)",
      "Cell \u001B[1;32mIn[18], line 8\u001B[0m\n\u001B[0;32m      6\u001B[0m input_data \u001B[38;5;241m=\u001B[39m \u001B[38;5;124m'\u001B[39m\u001B[38;5;124m \u001B[39m\u001B[38;5;124m'\u001B[39m\u001B[38;5;241m.\u001B[39mjoin(combo)\n\u001B[0;32m      7\u001B[0m s \u001B[38;5;241m=\u001B[39m query(input_data)\n\u001B[1;32m----> 8\u001B[0m \u001B[38;5;28;01mif\u001B[39;00m \u001B[43ms\u001B[49m\u001B[43m[\u001B[49m\u001B[38;5;124;43m'\u001B[39;49m\u001B[38;5;124;43mmessage\u001B[39;49m\u001B[38;5;124;43m'\u001B[39;49m\u001B[43m]\u001B[49m\u001B[43m \u001B[49m\u001B[38;5;241;43m>\u001B[39;49m\u001B[43m \u001B[49m\u001B[38;5;241;43m0.85\u001B[39;49m:\n\u001B[0;32m      9\u001B[0m     \u001B[38;5;28mprint\u001B[39m(s)\n\u001B[0;32m     10\u001B[0m     \u001B[38;5;28;01mwith\u001B[39;00m \u001B[38;5;28mopen\u001B[39m(\u001B[38;5;124m'\u001B[39m\u001B[38;5;124mresults.txt\u001B[39m\u001B[38;5;124m'\u001B[39m, \u001B[38;5;124m'\u001B[39m\u001B[38;5;124ma\u001B[39m\u001B[38;5;124m'\u001B[39m) \u001B[38;5;28;01mas\u001B[39;00m f:\n",
      "\u001B[1;31mTypeError\u001B[0m: '>' not supported between instances of 'str' and 'float'"
     ]
    }
   ],
   "source": [
    "i = 0\n",
    "for combo in noun_combos:\n",
    "    i += 1\n",
    "    if i % 500 == 0:\n",
    "        print(i)\n",
    "    input_data = ' '.join(combo)\n",
    "    s = query(input_data)\n",
    "    if s['message'] > 0.85:\n",
    "        print(s)\n",
    "        with open('results.txt', 'a') as f:\n",
    "            f.write(f'{input_data} {s[\"message\"]}\\n')"
   ],
   "metadata": {
    "collapsed": false,
    "ExecuteTime": {
     "end_time": "2023-10-16T06:08:22.511307500Z",
     "start_time": "2023-10-15T22:50:33.874288100Z"
    }
   },
   "id": "926a65b36d561dd4"
  }
 ],
 "metadata": {
  "kernelspec": {
   "display_name": "Python 3",
   "language": "python",
   "name": "python3"
  },
  "language_info": {
   "codemirror_mode": {
    "name": "ipython",
    "version": 2
   },
   "file_extension": ".py",
   "mimetype": "text/x-python",
   "name": "python",
   "nbconvert_exporter": "python",
   "pygments_lexer": "ipython2",
   "version": "2.7.6"
  }
 },
 "nbformat": 4,
 "nbformat_minor": 5
}
