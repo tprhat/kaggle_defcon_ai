{
 "cells": [
  {
   "cell_type": "code",
   "execution_count": 2,
   "id": "initial_id",
   "metadata": {
    "collapsed": true,
    "ExecuteTime": {
     "end_time": "2023-10-21T16:47:07.530037300Z",
     "start_time": "2023-10-21T16:47:07.268038500Z"
    }
   },
   "outputs": [],
   "source": [
    "import requests\n",
    "import base64\n",
    "import numpy as np\n",
    "from PIL import Image"
   ]
  },
  {
   "cell_type": "code",
   "execution_count": 22,
   "outputs": [
    {
     "data": {
      "text/plain": "[[0.28575703501701355, 'timber wolf'],\n [0.13912102580070496, 'red wolf'],\n [0.1217745989561081, 'coyote'],\n [0.02413186803460121, 'dingo'],\n [0.01603207364678383, 'Eskimo dog']]"
     },
     "execution_count": 22,
     "metadata": {},
     "output_type": "execute_result"
    }
   ],
   "source": [
    "with open('granny/timber_wolf.png', 'rb') as f:\n",
    "    input_data = base64.b64encode(f.read()).decode()\n",
    "\n",
    "\n",
    "# input_image = Image.open('granny/granny_8.jpeg')\n",
    "# input_data = array_to_base64(np.array(input_image))\n",
    "\n",
    "def query(input_data):\n",
    "    response = requests.post('http://granny.advml.com/score', json={'data': input_data})\n",
    "    return response.json()\n",
    "\n",
    "\n",
    "query(input_data)['output'][0:5]"
   ],
   "metadata": {
    "collapsed": false,
    "ExecuteTime": {
     "end_time": "2023-10-21T17:46:40.868616Z",
     "start_time": "2023-10-21T17:46:40.078453100Z"
    }
   },
   "id": "dd9e28b8563735b0"
  },
  {
   "cell_type": "code",
   "execution_count": 25,
   "outputs": [],
   "source": [
    "from PIL import Image\n",
    "from io import BytesIO\n",
    "\n",
    "def array_to_base64(arr):\n",
    "    img = Image.fromarray(arr)\n",
    "    with BytesIO() as buffer:\n",
    "        img.save(buffer, 'png') # must be png to achive same score\n",
    "        return base64.b64encode(buffer.getvalue()).decode()"
   ],
   "metadata": {
    "collapsed": false,
    "ExecuteTime": {
     "end_time": "2023-10-21T17:47:09.130798200Z",
     "start_time": "2023-10-21T17:47:09.099799100Z"
    }
   },
   "id": "30b3e56e1c539c93"
  },
  {
   "cell_type": "code",
   "execution_count": 26,
   "outputs": [
    {
     "data": {
      "text/plain": "[[0.28575703501701355, 'timber wolf'],\n [0.13912102580070496, 'red wolf'],\n [0.1217745989561081, 'coyote'],\n [0.02413186803460121, 'dingo'],\n [0.01603207364678383, 'Eskimo dog']]"
     },
     "execution_count": 26,
     "metadata": {},
     "output_type": "execute_result"
    }
   ],
   "source": [
    "\n",
    "# testing the base64 encoding fuction\n",
    "img_test = Image.open('granny/timber_wolf.png')\n",
    "\n",
    "img_arr = np.array(img_test)\n",
    "\n",
    "img_input = array_to_base64(img_arr)\n",
    "query(img_input)['output'][0:5]"
   ],
   "metadata": {
    "collapsed": false,
    "ExecuteTime": {
     "end_time": "2023-10-21T17:47:11.314227600Z",
     "start_time": "2023-10-21T17:47:09.725528900Z"
    }
   },
   "id": "cac7ea27ab90e423"
  },
  {
   "cell_type": "code",
   "execution_count": null,
   "outputs": [],
   "source": [],
   "metadata": {
    "collapsed": false
   },
   "id": "33dfd96b172466b7"
  },
  {
   "cell_type": "code",
   "execution_count": null,
   "outputs": [],
   "source": [
    "def get_diff(s1, s2):\n",
    "    return np.linalg.norm(s1 - s2, axis=(1, 2))\n",
    "\n",
    "def orthog_perturb(delta, prev, target):\n",
    "    perturb = np.random.randn(1, 224, 224, 3)\n",
    "    perturb /= np.linalg.norm(perturb, axis=(1, 2))\n",
    "    perturb *= delta * np.mean(get_diff(target, prev))\n",
    "    \n",
    "    # Projection\n",
    "    diff = target - prev\n",
    "    diff /= get_diff(target, prev)\n",
    "    \n",
    "    perturb -= (np.vdot(perturb, diff) / np.linalg.norm(diff) ** 2) * diff\n",
    "    \n",
    "    overflow = prev + perturb\n",
    "    perturb -= overflow * (overflow > 1)\n",
    "    \n",
    "    underflow = prev + perturb\n",
    "    perturb -= underflow * (underflow < 0)\n",
    "    \n",
    "    return perturb\n",
    "\n",
    "def forward_perturb(epsilon, prev, target):\n",
    "    return (target - prev) * epsilon\n",
    "\n",
    "def predict(sample):\n",
    "    img = T.ToPILImage()(torch.Tensor(sample).moveaxis(3, 1).squeeze())\n",
    "    img_bytes = img.tobytes()\n",
    "    b64_img_bytes = base64.urlsafe_b64encode(img_bytes)\n",
    "    \n",
    "    while True:\n",
    "        try:\n",
    "            r = requests.post(\"https://hotdog.fly.dev/score\", data=json.dumps({\"input\": b64_img_bytes.decode()}))\n",
    "\n",
    "            if len(r.text) > 120:\n",
    "                return 1\n",
    "            else:\n",
    "                return 0\n",
    "        except:\n",
    "            pass\n",
    "\n",
    "def show_image(img):\n",
    "    image_tensor = torch.Tensor(img).moveaxis(3, 1)\n",
    "    plt.imshow(image_tensor.squeeze().permute(1, 2, 0))\n",
    "    \n",
    "chester = Im.open('../input/ctf-data/ctf-data/chester.png')\n",
    "chester = chester.resize((224, 224))\n",
    "chester = TF.to_tensor(chester)\n",
    "chester = chester.unsqueeze(0)\n",
    "\n",
    "hotdog = Im.open('../input/ctf-data/ctf-data/hotdog.png')\n",
    "hotdog = hotdog.resize((224, 224))\n",
    "hotdog = TF.to_tensor(hotdog)\n",
    "hotdog = hotdog.unsqueeze(0)\n",
    "\n",
    "initial_sample = torch.moveaxis(hotdog, 1, 3).numpy()\n",
    "target_sample = torch.moveaxis(chester, 1, 3).numpy()\n",
    "\n",
    "adversarial_sample = initial_sample\n",
    "\n",
    "epsilon = 0.1\n",
    "delta = 0.01\n",
    "\n",
    "ATTACK_CLASS = 1\n",
    "\n",
    "saved_images = []\n",
    "saved_queries = []\n",
    "\n",
    "#################################################################################################\n",
    "#################################################################################################\n",
    "\n",
    "# The following is the code to run the actual attack algorithm. Because the servers are no longer\n",
    "# online, it will not run because it makes queries to the server to determine whether an image\n",
    "# is adversarial or not. I've included the final image I used to obtain the flag, and was a\n",
    "# direct result of running the below algorithm. There were a few small tweaks I made to the\n",
    "# original starting image - I believe I rotated the hotdog to be more inline with the Chester,\n",
    "# but this was simply to help the algorithm converge faster.\n",
    "#\n",
    "# Note - the full process took a few hours to complete, mostly because querying the flag server\n",
    "# is slow.\n",
    "\n",
    "#################################################################################################\n",
    "#################################################################################################\n",
    "\n",
    "# Move towards the boundary\n",
    "# queries = 0\n",
    "# while True:\n",
    "#     trial_sample = adversarial_sample + forward_perturb(epsilon, adversarial_sample, target_sample)\n",
    "#     prediction = predict(trial_sample)\n",
    "\n",
    "#     queries += 1\n",
    "#     if prediction == ATTACK_CLASS:\n",
    "#         adversarial_sample = trial_sample\n",
    "#         break\n",
    "#     else:\n",
    "#         epsilon *= 0.9\n",
    "        \n",
    "# # Run iterative attack\n",
    "# for j in range(100000):\n",
    "#     if j % 10 == 0:\n",
    "#         print(f'Queries: {queries}')\n",
    "#         print(f'MSE: {np.mean(get_diff(target_sample, adversarial_sample))}')\n",
    "#         saved_images.append(adversarial_sample)\n",
    "#         saved_queries.append(queries)\n",
    "        \n",
    "#     while True:\n",
    "#         d_score = 0\n",
    "#         good_sample = np.zeros(0)\n",
    "        \n",
    "#         for i in range(10):\n",
    "#             trial_sample = adversarial_sample + orthog_perturb(delta, adversarial_sample, target_sample)\n",
    "#             prediction = predict(trial_sample)\n",
    "#             queries += 1\n",
    "            \n",
    "#             if prediction == ATTACK_CLASS:\n",
    "#                 good_sample = trial_sample\n",
    "#                 d_score += 0.1\n",
    "\n",
    "#         if d_score > 0.0:\n",
    "#             if d_score < 0.3:\n",
    "#                 delta *= 0.9\n",
    "#             elif d_score > 0.7:\n",
    "#                 delta /= 0.9\n",
    "\n",
    "#             adversarial_sample = good_sample\n",
    "#             break\n",
    "#         else:\n",
    "#             delta *= 0.9\n",
    "            \n",
    "#     # Forward step\n",
    "#     step = 0\n",
    "#     while True:\n",
    "#         step += 1\n",
    "#         trial_sample = adversarial_sample + forward_perturb(epsilon, adversarial_sample, target_sample)\n",
    "#         prediction = predict(trial_sample)\n",
    "#         queries += 1\n",
    "        \n",
    "#         if prediction == ATTACK_CLASS:\n",
    "#             adversarial_sample = trial_sample\n",
    "#             epsilon /= 0.5\n",
    "#             break\n",
    "#         elif step > 500:\n",
    "#             break\n",
    "#         else:\n",
    "#             epsilon *= 0.5\n",
    "\n",
    "# adversarial = Im.open('../input/ctf-data/ctf-data/adversarial-chester.png')\n",
    "# adversarial = adversarial.resize((224, 224))\n",
    "\n",
    "# Guess it's close enough to fool the classifier!\n",
    "# plt.imshow(adversarial)"
   ],
   "metadata": {
    "collapsed": false
   },
   "id": "da23d2c459052040"
  }
 ],
 "metadata": {
  "kernelspec": {
   "display_name": "Python 3",
   "language": "python",
   "name": "python3"
  },
  "language_info": {
   "codemirror_mode": {
    "name": "ipython",
    "version": 2
   },
   "file_extension": ".py",
   "mimetype": "text/x-python",
   "name": "python",
   "nbconvert_exporter": "python",
   "pygments_lexer": "ipython2",
   "version": "2.7.6"
  }
 },
 "nbformat": 4,
 "nbformat_minor": 5
}
