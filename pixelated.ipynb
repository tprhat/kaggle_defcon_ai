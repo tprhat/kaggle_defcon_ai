{
 "cells": [
  {
   "cell_type": "code",
   "execution_count": null,
   "id": "initial_id",
   "metadata": {
    "collapsed": true
   },
   "outputs": [],
   "source": []
  },
  {
   "cell_type": "code",
   "execution_count": 8,
   "outputs": [
    {
     "data": {
      "text/plain": "{'status': 'success', 'upstream_msg': 'Entry inserted', 'text': 'place:'}"
     },
     "execution_count": 8,
     "metadata": {},
     "output_type": "execute_result"
    }
   ],
   "source": [
    "## send a pixelated version of flag: \"gAAAAbl...\"\n",
    "import requests\n",
    "import base64\n",
    "\n",
    "# with open('/kaggle/input/ai-village-capture-the-flag-defcon31/pixelated/reference.png', 'rb') as f:\n",
    "with open('pixelated/flag_caps.png', 'rb') as f:\n",
    "    input_data = f.read()\n",
    "    input_data = base64.b64encode(input_data).decode()\n",
    "# print(input_data)\n",
    "\n",
    "def query(input_data):\n",
    "    response = requests.post('http://pixelated.advml.com/score', json={'data': input_data})\n",
    "    return response.json()\n",
    "\n",
    "query(input_data)"
   ],
   "metadata": {
    "collapsed": false,
    "ExecuteTime": {
     "end_time": "2023-10-16T16:08:43.031045700Z",
     "start_time": "2023-10-16T16:08:41.622396300Z"
    }
   },
   "id": "76642d27db3b34c2"
  }
 ],
 "metadata": {
  "kernelspec": {
   "display_name": "Python 3",
   "language": "python",
   "name": "python3"
  },
  "language_info": {
   "codemirror_mode": {
    "name": "ipython",
    "version": 2
   },
   "file_extension": ".py",
   "mimetype": "text/x-python",
   "name": "python",
   "nbconvert_exporter": "python",
   "pygments_lexer": "ipython2",
   "version": "2.7.6"
  }
 },
 "nbformat": 4,
 "nbformat_minor": 5
}
