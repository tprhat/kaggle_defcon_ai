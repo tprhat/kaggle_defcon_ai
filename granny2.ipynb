{
 "cells": [
  {
   "cell_type": "code",
   "execution_count": 2,
   "outputs": [
    {
     "data": {
      "text/plain": "[[0.932261049747467, 'Granny Smith'],\n [0.004858763888478279, 'spaghetti squash'],\n [0.003909297753125429, 'gong'],\n [0.002737161936238408, 'tennis ball'],\n [0.002694168360903859, 'lemon']]"
     },
     "execution_count": 2,
     "metadata": {},
     "output_type": "execute_result"
    }
   ],
   "source": [
    "import requests\n",
    "import numpy as np\n",
    "from PIL import Image\n",
    "import io\n",
    "import base64\n",
    "\n",
    "def array_to_base64(arr):\n",
    "    img = Image.fromarray(arr)\n",
    "    buffered = io.BytesIO()\n",
    "    img.save(buffered, format=\"PNG\")\n",
    "    return base64.b64encode(buffered.getvalue()).decode()\n",
    "\n",
    "input_image = Image.open('granny/granny_8.jpeg')\n",
    "input_data = np.array(input_image)\n",
    "\n",
    "def query(input_data):\n",
    "    response = requests.post('http://granny-jpg.advml.com/score', json={'data': input_data})\n",
    "    return response.json()\n",
    "\n",
    "query(array_to_base64(input_data))[\"output\"][0:5]"
   ],
   "metadata": {
    "collapsed": false,
    "ExecuteTime": {
     "end_time": "2023-10-23T16:54:42.150873400Z",
     "start_time": "2023-10-23T16:54:41.478872100Z"
    }
   },
   "id": "b6824a15fa23d824"
  }
 ],
 "metadata": {
  "kernelspec": {
   "display_name": "Python 3",
   "language": "python",
   "name": "python3"
  },
  "language_info": {
   "codemirror_mode": {
    "name": "ipython",
    "version": 2
   },
   "file_extension": ".py",
   "mimetype": "text/x-python",
   "name": "python",
   "nbconvert_exporter": "python",
   "pygments_lexer": "ipython2",
   "version": "2.7.6"
  }
 },
 "nbformat": 4,
 "nbformat_minor": 5
}
