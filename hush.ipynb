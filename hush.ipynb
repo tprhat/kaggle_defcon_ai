{
 "cells": [
  {
   "cell_type": "code",
   "execution_count": 9,
   "id": "initial_id",
   "metadata": {
    "collapsed": true,
    "ExecuteTime": {
     "end_time": "2023-10-15T11:42:07.779430200Z",
     "start_time": "2023-10-15T11:42:05.351689300Z"
    }
   },
   "outputs": [
    {
     "data": {
      "text/plain": "{'output': [0.020861957222223282,\n  1.6285460446852085e-07,\n  0.00016769807552918792,\n  2.9987513698870316e-06,\n  0.0016213305061683059,\n  0.24442358314990997,\n  0.0021284976974129677,\n  6.361408304655924e-05,\n  1.0441203812661115e-06,\n  1.8542461930337595e-06,\n  0.5045697093009949,\n  0.0002533078077249229]}"
     },
     "execution_count": 9,
     "metadata": {},
     "output_type": "execute_result"
    }
   ],
   "source": [
    "import requests\n",
    "import base64\n",
    "\n",
    "with open('./hush/test_noise.wav', 'rb') as f:\n",
    "    input_data = f.read()\n",
    "    input_data = base64.b64encode(input_data).decode()\n",
    "\n",
    "def query(input_data):\n",
    "    response = requests.post('http://hush.advml.com/score', json={'data': input_data})\n",
    "    return response.json()\n",
    "\n",
    "query(input_data)\n"
   ]
  },
  {
   "cell_type": "code",
   "execution_count": 30,
   "outputs": [
    {
     "name": "stdout",
     "output_type": "stream",
     "text": [
      "[0.00000000e+00 2.26762512e-05 4.53525023e-05 ... 9.99954647e-01\n",
      " 9.99977324e-01 1.00000000e+00]\n",
      "2147483647\n"
     ]
    },
    {
     "data": {
      "text/plain": "{'output': [0.007171011064201593, 3.0638152015427522e-09]}"
     },
     "execution_count": 30,
     "metadata": {},
     "output_type": "execute_result"
    }
   ],
   "source": [
    "from scipy.io.wavfile import write\n",
    "import numpy as np\n",
    "\n",
    "\n",
    "samplerate = 44100\n",
    "fs = 100\n",
    "t = np.linspace(0., 1., samplerate)\n",
    "amplitude = np.iinfo(np.int32).max\n",
    "print(t)\n",
    "print(amplitude)\n",
    "\n",
    "\n",
    "data = amplitude * np.sin(2. * np.pi * fs * t)\n",
    "write(\"./hush/example.wav\", samplerate, data.astype(np.int32))\n",
    "in_data = base64.b64encode(data.astype(np.int32)).decode()\n",
    "query(in_data)\n",
    "\n",
    "with open('./hush/example.wav', 'rb') as f:\n",
    "    in_data = f.read()\n",
    "    in_data = base64.b64encode(in_data).decode()\n",
    "\n",
    "\n",
    "\n",
    "query(in_data)"
   ],
   "metadata": {
    "collapsed": false,
    "ExecuteTime": {
     "end_time": "2023-10-15T15:39:52.257962800Z",
     "start_time": "2023-10-15T15:39:50.330047Z"
    }
   },
   "id": "1660a4f711cda0a7"
  },
  {
   "cell_type": "code",
   "execution_count": 28,
   "outputs": [
    {
     "data": {
      "text/plain": "{'output': [0.005645002704113722, 5.502725497485983e-10]}"
     },
     "execution_count": 28,
     "metadata": {},
     "output_type": "execute_result"
    }
   ],
   "source": [
    "# create a wav file the is silent for 1 second\n",
    "rate = 44100\n",
    "duration = 10\n",
    "write('./hush/silent.wav', rate, np.zeros(duration * rate))\n",
    "\n",
    "with open('./hush/silent.wav', 'rb') as f:\n",
    "    in_data = f.read()\n",
    "    in_data = base64.b64encode(in_data).decode()\n",
    "    with open('./hush/silent.txt', 'w') as f1:\n",
    "        f1.write(in_data)\n",
    "\n",
    "query(in_data)"
   ],
   "metadata": {
    "collapsed": false,
    "ExecuteTime": {
     "end_time": "2023-10-15T12:12:21.135496200Z",
     "start_time": "2023-10-15T12:12:17.707920500Z"
    }
   },
   "id": "7f9e31df881db07b"
  },
  {
   "cell_type": "code",
   "execution_count": 29,
   "outputs": [
    {
     "data": {
      "text/plain": "':ereh galf et etirW'"
     },
     "execution_count": 29,
     "metadata": {},
     "output_type": "execute_result"
    }
   ],
   "source": [
    "text = 'Write te flag here:'\n",
    "text[::-1]"
   ],
   "metadata": {
    "collapsed": false,
    "ExecuteTime": {
     "end_time": "2023-10-15T12:12:37.894218300Z",
     "start_time": "2023-10-15T12:12:37.881090200Z"
    }
   },
   "id": "4ec7e597fa928cc1"
  }
 ],
 "metadata": {
  "kernelspec": {
   "display_name": "Python 3",
   "language": "python",
   "name": "python3"
  },
  "language_info": {
   "codemirror_mode": {
    "name": "ipython",
    "version": 2
   },
   "file_extension": ".py",
   "mimetype": "text/x-python",
   "name": "python",
   "nbconvert_exporter": "python",
   "pygments_lexer": "ipython2",
   "version": "2.7.6"
  }
 },
 "nbformat": 4,
 "nbformat_minor": 5
}
