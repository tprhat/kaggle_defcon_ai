{
 "cells": [
  {
   "cell_type": "code",
   "execution_count": null,
   "id": "initial_id",
   "metadata": {
    "collapsed": true
   },
   "outputs": [],
   "source": []
  },
  {
   "cell_type": "code",
   "execution_count": 4,
   "outputs": [
    {
     "data": {
      "text/plain": "{'message': 'No flag for you, be more dangerous.'}"
     },
     "execution_count": 4,
     "metadata": {},
     "output_type": "execute_result"
    }
   ],
   "source": [
    "import subprocess\n",
    "import requests\n",
    "import base64\n",
    "import pickle\n",
    "import sys\n",
    "# class Bomb:\n",
    "#     def __init__(self, name):\n",
    "#         self.name = name\n",
    "\n",
    "#     def __getstate__(self):\n",
    "#         return self.name\n",
    "\n",
    "#     def __setstate__(self, state):\n",
    "#         self.name = state\n",
    "#         print(f'Admin: Bang! From, {self.name}.')\n",
    "\n",
    "# bomb = Bomb('Evan')\n",
    "\n",
    "class EvilSearchQuery(object):\n",
    "    def __reduce__(self):\n",
    "        return self.__class__, (self.searchTerm, 2, 3)\n",
    "    def __init__(self, term, archived, page):\n",
    "        self.searchTerm = term\n",
    "        self.includeArchived = archived\n",
    "        self.currentPage = page\n",
    "# obj = EvilSearchQuery(\"flag\", False, 1)\n",
    "# print(base64.encode(pickle.dumps(evilQuery)))\n",
    "\n",
    "obj = pickle.dumps({\"self-destruct\": \"Cut up all the pickles\"})\n",
    "input_data = base64.b64encode(pickle.dumps(obj)).decode()\n",
    "\n",
    "def query(input_data):\n",
    "    response = requests.post(\"http://pickle.advml.com/score\", json={\"data\": input_data})\n",
    "    return response.json()\n",
    "\n",
    "query(input_data)"
   ],
   "metadata": {
    "collapsed": false,
    "ExecuteTime": {
     "end_time": "2023-10-16T16:06:35.984053100Z",
     "start_time": "2023-10-16T16:06:35.692389Z"
    }
   },
   "id": "a6a3f7a66a366d6b"
  }
 ],
 "metadata": {
  "kernelspec": {
   "display_name": "Python 3",
   "language": "python",
   "name": "python3"
  },
  "language_info": {
   "codemirror_mode": {
    "name": "ipython",
    "version": 2
   },
   "file_extension": ".py",
   "mimetype": "text/x-python",
   "name": "python",
   "nbconvert_exporter": "python",
   "pygments_lexer": "ipython2",
   "version": "2.7.6"
  }
 },
 "nbformat": 4,
 "nbformat_minor": 5
}
